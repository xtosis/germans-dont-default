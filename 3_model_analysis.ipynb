{
 "cells": [
  {
   "cell_type": "code",
   "execution_count": 1,
   "metadata": {
    "ExecuteTime": {
     "end_time": "2018-03-13T16:23:25.124000Z",
     "start_time": "2018-03-13T16:23:24.426000Z"
    }
   },
   "outputs": [],
   "source": [
    "# --- Importing Libraries -------------------------------------------------------\n",
    "import pandas as pd\n",
    "import pickle\n",
    "import dill\n",
    "import matplotlib\n",
    "import matplotlib.pyplot as plt\n",
    "from matplotlib import style\n",
    "from sklearn.svm import SVC\n",
    "from sklearn import metrics\n",
    "from sklearn.model_selection import train_test_split\n",
    "\n",
    "# --- Matplotlib Settings -------------------------------------------------------\n",
    "matplotlib.rc('figure', facecolor='k')\n",
    "style.use('dark_background')\n",
    "\n",
    "# --- Pandas Display Settings ---------------------------------------------------\n",
    "pd.options.display.width = 113\n",
    "pd.options.display.max_columns = 100\n",
    "pd.options.display.colheader_justify='right'\n",
    "\n",
    "# --- Importing Pickles ---------------------------------------------------------\n",
    "def IMPORT_PICKLE(name):\n",
    "    '''\n",
    "    Returns pickled object within current file directory\n",
    "    '''\n",
    "    file_name = 'pickles/{}.pkl'.format(name)\n",
    "    with open(file_name, 'rb') as my_file:\n",
    "        return pickle.load(my_file)\n",
    "\n",
    "# Dataset\n",
    "X = IMPORT_PICKLE('minmax_dataset')\n",
    "y = IMPORT_PICKLE('y')\n",
    "feature_names = IMPORT_PICKLE('feature_names')\n",
    "\n",
    "# Best classifier\n",
    "model = IMPORT_PICKLE('best_model')\n",
    "\n",
    "# Best classifier stats\n",
    "stats = IMPORT_PICKLE('best_model_stats')\n",
    "\n",
    "# Find thresholds function\n",
    "with open('pickles/func_FIND_THRESHOLDS.pkl', 'rb') as myfile:\n",
    "    FIND_THRESHOLDS = dill.load(myfile)"
   ]
  }
 ],
 "metadata": {
  "hide_input": false,
  "kernelspec": {
   "display_name": "Python 2",
   "language": "python",
   "name": "python2"
  },
  "language_info": {
   "codemirror_mode": {
    "name": "ipython",
    "version": 2
   },
   "file_extension": ".py",
   "mimetype": "text/x-python",
   "name": "python",
   "nbconvert_exporter": "python",
   "pygments_lexer": "ipython2",
   "version": "2.7.14"
  }
 },
 "nbformat": 4,
 "nbformat_minor": 2
}
