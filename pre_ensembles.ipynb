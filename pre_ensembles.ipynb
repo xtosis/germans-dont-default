{
 "cells": [
  {
   "cell_type": "code",
   "execution_count": 1,
   "metadata": {
    "ExecuteTime": {
     "end_time": "2018-03-11T10:49:57.166000Z",
     "start_time": "2018-03-11T10:49:56.471000Z"
    },
    "cell_style": "center",
    "code_folding": [],
    "hideCode": false,
    "hidePrompt": false,
    "hide_input": true,
    "init_cell": true
   },
   "outputs": [],
   "source": [
    "# --- Importing Libraries -------------------------------------------------------\n",
    "import pandas as pd\n",
    "import numpy as np\n",
    "import winsound\n",
    "import pickle\n",
    "import matplotlib\n",
    "import matplotlib.pyplot as plt\n",
    "from matplotlib import style\n",
    "from sklearn.linear_model import LogisticRegression as LRC\n",
    "from sklearn.svm import SVC, LinearSVC\n",
    "from sklearn.tree import DecisionTreeClassifier as DTC\n",
    "from sklearn.ensemble import RandomForestClassifier as RFC\n",
    "from sklearn.ensemble import AdaBoostClassifier as ABC\n",
    "from sklearn.ensemble import BaggingClassifier as BAG\n",
    "from sklearn.ensemble import GradientBoostingClassifier as GBC\n",
    "from sklearn.ensemble import ExtraTreesClassifier as ETC\n",
    "from mlxtend.classifier import EnsembleVoteClassifier as EVC\n",
    "from sklearn import metrics\n",
    "from sklearn.model_selection import train_test_split\n",
    "from sklearn.feature_selection import RFE\n",
    "from sklearn.preprocessing import StandardScaler, MinMaxScaler\n",
    "from skopt import BayesSearchCV as BSCV\n",
    "from skopt.space import Real, Categorical, Integer\n",
    "\n",
    "# --- Matplotlib Settings -------------------------------------------------------\n",
    "matplotlib.rc('figure', facecolor='k')\n",
    "style.use('dark_background')\n",
    "\n",
    "# --- Pandas Display Settings ---------------------------------------------------\n",
    "pd.options.display.width = 113\n",
    "pd.options.display.max_columns = 100\n",
    "pd.options.display.colheader_justify='right'\n",
    "\n",
    "# --- Importing CVSs ------------------------------------------------------------\n",
    "raw = pd.read_csv('data/german_data.csv') # categoricals are phrases or words\n",
    "doc = pd.read_csv('data/german_data_original.csv')# ordinals are alphanumeric codes\n",
    "don = pd.read_csv('data/german_data_original_numeric.csv')# ordinals are numeric ranks"
   ]
  },
  {
   "cell_type": "markdown",
   "metadata": {
    "cell_style": "center",
    "hideCode": false,
    "hidePrompt": false,
    "hide_input": true
   },
   "source": [
    "## 1. Feature Engineering: Creating New Numerical Features\n",
    "---\n",
    "- Minimum Salary Requirement:\n",
    "    - $ MSR = Amount \\times \\Big( 1 + \\frac{Rate}{100} \\Big) \\times Time $\n",
    "- Total Profit: \n",
    "    - $ TPR = Amount \\times \\Big( \\frac{Rate}{100} \\Big) \\times Time $\n",
    "- Interaction 1: \n",
    "    - $ IN1 = Amount \\times \\Big( \\frac{Rate}{100} \\Big) $"
   ]
  },
  {
   "cell_type": "code",
   "execution_count": 2,
   "metadata": {
    "ExecuteTime": {
     "end_time": "2018-03-11T10:49:57.190000Z",
     "start_time": "2018-03-11T10:49:57.168000Z"
    },
    "cell_style": "center",
    "code_folding": [
     0
    ],
    "collapsed": true,
    "hideCode": false,
    "hidePrompt": false,
    "init_cell": true
   },
   "outputs": [
    {
     "name": "stdout",
     "output_type": "stream",
     "text": [
      "       count     mean      std      min      25%      50%      75%      max\n",
      "MSR  1000.00    92.10   131.56     1.53    18.15    41.03   101.63   957.96\n",
      "TPR  1000.00  2469.32  3623.67    24.04   465.69  1117.80  2824.59 33664.80\n",
      "IN1  1000.00    88.70    79.48     5.00    38.64    62.28   109.75   572.72\n"
     ]
    }
   ],
   "source": [
    "# --- Creating the new features -------------------------------------------------\n",
    "# MSR (Minimum Salary Requirement) units in thousands\n",
    "MSR = raw['amount']*(1+(0.01*raw['inst_rate']))*raw['loan_time']*0.001\n",
    "MSR.name = 'MSR'\n",
    "\n",
    "# TPR (Total Profit)\n",
    "TPR = raw['amount']*0.01*raw['inst_rate']*raw['loan_time']\n",
    "TPR.name = 'TPR'\n",
    "\n",
    "# IN1 (Interaction 1)\n",
    "IN1 = raw['amount']*0.01*raw['inst_rate']\n",
    "IN1.name = 'IN1'\n",
    "\n",
    "# Displaying statistical summary\n",
    "pd.options.display.float_format = '{:8.2f}'.format\n",
    "print pd.concat([MSR, TPR, IN1], axis=1).describe().T"
   ]
  },
  {
   "cell_type": "markdown",
   "metadata": {
    "cell_style": "center",
    "hide_input": false
   },
   "source": [
    "## 2. Creating dataset, training set and hold-out set\n",
    "---"
   ]
  },
  {
   "cell_type": "code",
   "execution_count": 3,
   "metadata": {
    "ExecuteTime": {
     "end_time": "2018-03-11T10:49:57.630000Z",
     "start_time": "2018-03-11T10:49:57.192000Z"
    },
    "cell_style": "center",
    "code_folding": [
     0
    ],
    "collapsed": true,
    "init_cell": true
   },
   "outputs": [
    {
     "name": "stdout",
     "output_type": "stream",
     "text": [
      ">>> Number of Good (1) in y: 700\n",
      ">>> Number of Bad (0) in y:  300\n",
      "\n",
      ">>> Train size: 750\n",
      ">>> Test size:  250\n",
      "\n",
      ">>> -ve class in train: 218 (29%)\n",
      ">>> -ve class in test:  82  (32%)\n",
      "\n",
      ">>> First 6 records of the new dataset\n",
      "                 0        1        2        3        4        5\n",
      "DUR              6       48       12       42       24       36\n",
      "AMT           1169     5951     2096     7882     4870     9055\n",
      "INR              4        2        2        2        3        2\n",
      "RES              4        2        3        4        4        4\n",
      "AGE             67       22       49       45       53       35\n",
      "CRD              2        1        1        1        2        1\n",
      "PPL              1        1        2        2        2        2\n",
      "MSR        7.29456  291.361   25.655  337.665  120.386    332.5\n",
      "TPR         280.56  5712.96   503.04  6620.88   3506.4   6519.6\n",
      "IN1          46.76   119.02    41.92   157.64    146.1    181.1\n",
      "CHK              1        2        4        1        1        4\n",
      "HIS              4        2        4        2        3        2\n",
      "SAV              5        1        1        1        1        5\n",
      "EXP              5        3        4        4        3        3\n",
      "SEX              3        2        3        3        3        3\n",
      "PPT              1        1        1        2        4        4\n",
      "OIP              3        3        3        3        3        3\n",
      "TEL              2        1        1        1        1        2\n",
      "FRN              1        1        1        1        1        1\n",
      "car_new          0        0        0        0        1        0\n",
      "car_used         0        0        0        0        0        0\n",
      "deb_none         1        1        1        0        1        1\n",
      "deb_coap         0        0        0        0        0        0\n",
      "rents            0        0        0        0        0        0\n",
      "owns             1        1        1        0        0        0\n",
      "unemp            0        0        0        0        0        0\n",
      "unskilled        0        0        1        0        0        1\n",
      "skilled          1        1        0        1        1        0\n"
     ]
    }
   ],
   "source": [
    "# --- Attaching New Numerical Features and Installment Rate ---------------------\n",
    "'''\n",
    "[NOTE]\n",
    "Installment Rate (INR) is there in the repository that this dataset was obtained \n",
    "from (raw) but that same repository has 2 other formats of the same dataset, one \n",
    "having categorical/ordinals (doc dataset) in alphanumeric format (i.e. no implied \n",
    "rankings) and the other having numerical rankings for the ordinal features (don\n",
    "dataset). The numerical dataset was deemed most useful to use however it has INR \n",
    "missing (along with a few more changes)\n",
    "\n",
    "Also... columns names have been altered after they had been downloaded from the\n",
    "online public repository\n",
    "'''\n",
    "# Indentifying column names to use for new dataset\n",
    "# Numerical features\n",
    "nume = ['DUR', 'AMT', 'INR', 'RES', 'AGE', 'CRD', 'PPL'] # taken from doc dataset\n",
    "# Ordinal features (encoded as rankings)\n",
    "ordi = ['CHK', 'HIS', 'SAV', 'EXP', 'SEX', 'PPT', 'OIP'] # taken from don dataset\n",
    "# Binary features\n",
    "bina = ['TEL', 'FRN', 'car_new', 'car_used', 'deb_none', # taken from don dataset\n",
    "        'deb_coap', 'rents', 'owns', 'unemp', 'unskilled', 'skilled']\n",
    "\n",
    "# Appending features and creating new dataset\n",
    "df = pd.concat([doc[nume], MSR, TPR, IN1, don[ordi], don[bina]], axis=1)\n",
    "feature_names = df.columns.tolist()\n",
    "\n",
    "# Editting Class Labels: 0 is Bad and 1 is Good\n",
    "y = [1 if label == 1 else 0 for label in don['default'].values]\n",
    "print '>>> Number of Good (1) in y:', sum(y)\n",
    "print '>>> Number of Bad (0) in y: ', 1000-sum(y)\n",
    "\n",
    "# Creating Training and Hold-Out Set\n",
    "X_train, X_test, y_train, y_test = train_test_split(df.values, y, \n",
    "                                                    random_state = 2018)\n",
    "\n",
    "# Printing summaries about the training and hold-out sets\n",
    "print '\\n>>> Train size:', len(y_train)\n",
    "print '>>> Test size: ', len(y_test)\n",
    "print '\\n>>> -ve class in train: {} ({}%)'.format(y_train.count(0),\n",
    "                                              y_train.count(0)*100/len(y_train))\n",
    "print '>>> -ve class in test:  {}  ({}%)\\n'.format(y_test.count(0),\n",
    "                                             y_test.count(0)*100/len(y_test))\n",
    "print '>>> First 6 records of the new dataset'\n",
    "pd.options.display.float_format = '{:8.6g}'.format\n",
    "print df.head(6).T\n",
    "winsound.Beep(1800,50); winsound.Beep(1500,75); winsound.Beep(1200,100)"
   ]
  },
  {
   "cell_type": "markdown",
   "metadata": {
    "cell_style": "center"
   },
   "source": [
    "## 3. Recursive Feature Elimination (Attempt)\n",
    "---\n",
    "Investigating the effect of reducing features on accruacy and cost with a Random Forest Classifier. The classifier is first tuned with Bayesian Search, convergence results are then plotted and then the actual RFC is conducted."
   ]
  },
  {
   "cell_type": "code",
   "execution_count": 4,
   "metadata": {
    "ExecuteTime": {
     "end_time": "2018-03-11T10:50:50.124000Z",
     "start_time": "2018-03-11T10:49:57.631000Z"
    },
    "cell_style": "center",
    "code_folding": [
     0,
     1
    ],
    "collapsed": true,
    "init_cell": true
   },
   "outputs": [
    {
     "name": "stderr",
     "output_type": "stream",
     "text": [
      "C:\\Users\\Armin\\Anaconda2\\lib\\site-packages\\skopt\\optimizer\\optimizer.py:369: UserWarning: The objective has been evaluated at this point before.\n",
      "  warnings.warn(\"The objective has been evaluated \"\n"
     ]
    },
    {
     "name": "stdout",
     "output_type": "stream",
     "text": [
      ">>> Bayesian Hyperparameter Search top 5 results:\n",
      "                                     19       12       13       17       2 \n",
      "total_loss                         -461     -461     -473     -475     -476\n",
      "mean_test_score                  -153.7   -153.7   -157.7   -158.4   -158.7\n",
      "std_test_score                    18.56    18.56    15.19    16.37    21.77\n",
      "param_bootstrap                   False    False    False     True     True\n",
      "param_criterion                 entropy  entropy  entropy  entropy  entropy\n",
      "param_max_depth                       5        5        4        5        3\n",
      "param_min_weight_fraction_leaf     0.03     0.03     0.03     0.01     0.01\n",
      "param_n_estimators                   69       69       69       28       33\n",
      "param_random_state                   25       25       25     2018     2018\n",
      "split0_test_score                  -178     -178     -179     -181     -188\n",
      "split1_test_score                  -150     -150     -149     -151     -136\n",
      "split2_test_score                  -133     -133     -145     -143     -152\n",
      "\n",
      ">>> Feature importances of best found classifier:\n",
      "\n",
      "      DUR   AMT   INR    RES   AGE    CRD     PPL   MSR  TPR   IN1  CHK   HIS   SAV   EXP    SEX   PPT   OIP  \\\n",
      "impt 0.07 0.068 0.014 0.0053 0.041 0.0049 0.00046 0.095 0.11 0.058 0.25 0.059 0.096 0.025 0.0068 0.016 0.026   \n",
      "\n",
      "        TEL  FRN  car_new  car_used  deb_none  deb_coap  rents  owns  unemp  unskilled  skilled  \n",
      "impt 0.0049    0    0.015      0.01   0.00049         0  0.004 0.012      0    0.00071    0.003  \n",
      "\n",
      ">>> Hold-Out Set Performance:\n",
      "             Pred Bad  Pred Good\n",
      "Actual Bad         55         27\n",
      "Actual Good        49        119\n",
      "\n",
      "Hold-Out Set Loss: -184\n",
      "Hold-Out Set Accuracy: 0.696\n"
     ]
    }
   ],
   "source": [
    "# --- Defining Custom Cost Function ---------------------------------------------******************************\n",
    "def custom_cost_function(y_true, y_pred):\n",
    "    '''\n",
    "    [Description]\n",
    "    -----------------------------------------------------------------------------\n",
    "    As per requirements of the dataset documentation, the model should penalise\n",
    "    false positives (incorrectly identified credible cases) as five times worse\n",
    "    than false negatives. This function calculates this custom cost function for\n",
    "    implementation with the sklearn metrics package. Cost function value is\n",
    "    negated as per conventions of the metrics package.\n",
    "    '''\n",
    "    \n",
    "    score = 0\n",
    "    for i, pred in enumerate(y_pred):\n",
    "        \n",
    "        # False Negative\n",
    "        if pred == 0 and y_true[i] == 1:\n",
    "            score = score - 1\n",
    "        \n",
    "        # False Positive\n",
    "        elif pred == 1 and y_true[i] == 0:\n",
    "            score = score - 5\n",
    "    \n",
    "    return score\n",
    "\n",
    "# --- Modes ---------------------------------------------------------------------\n",
    "cost_function = metrics.make_scorer(custom_cost_function)\n",
    "mode = 'score_by_custom_cost_function'; scoring = cost_function\n",
    "#mode = 'score_by_roc_auc'; scoring = 'roc_auc'\n",
    "\n",
    "# --- Declaring Hyperparameters for the Random Forest Classifier ----------------\n",
    "params = {'n_estimators': Integer(1, 100),\n",
    "          'criterion': Categorical(['gini','entropy']),\n",
    "          'min_weight_fraction_leaf': Categorical(np.arange(0.0, 0.505, 0.005)),\n",
    "          'max_depth': Integer(1, 10),\n",
    "          'bootstrap': Categorical([True, False]),\n",
    "          'random_state': Categorical([5482, 46, 77, 2017, 2018, 25, 4])}\n",
    "\n",
    "# --- Bayesian Search with embedded k-fold cross-validation ---------------------\n",
    "folds = 3\n",
    "iterations = 20\n",
    "DT_rfc = RFC(class_weight='balanced', n_jobs=-1) # Random Forest Classifier\n",
    "hps = BSCV(DT_rfc, params, cv=folds, n_iter=iterations, scoring=scoring, \n",
    "           iid=True, return_train_score=False, random_state=2018)\n",
    "hps.fit(X_train, y_train)\n",
    "winsound.Beep(1800,50); winsound.Beep(1500,75); winsound.Beep(1200,100)\n",
    "\n",
    "# --- Formating and Displaying Hyperparamter Search Results ---------------------\n",
    "res = pd.DataFrame(hps.cv_results_)\n",
    "a = res[['mean_test_score', 'std_test_score']]\n",
    "res.drop(['mean_test_score', 'std_test_score', 'params', 'mean_fit_time', \n",
    "          'mean_score_time', 'std_fit_time', 'std_score_time', \n",
    "          'rank_test_score'], axis=1, inplace=True)\n",
    "if mode == 'score_by_custom_cost_function':\n",
    "    total_loss = res.loc[:, 'split0_test_score']\n",
    "    for i in range(1, folds):\n",
    "        total_loss = total_loss + res.loc[:, 'split{}_test_score'.format(i)]\n",
    "    total_loss.name = 'total_loss'\n",
    "    res = pd.concat([total_loss, a, res], axis=1)\n",
    "    res.sort_values(by=['total_loss'], inplace=True, ascending=False)\n",
    "else:\n",
    "    res = pd.concat([a, res], axis=1)\n",
    "    res.sort_values(by=['mean_test_score'], inplace=True, ascending=False)\n",
    "pd.options.display.float_format = '{:.4g}'.format\n",
    "print '>>> Bayesian Hyperparameter Search top 5 results:'\n",
    "print res.head(5).T\n",
    "\n",
    "# --- Feature Importance Results ------------------------------------------------\n",
    "print '\\n>>> Feature importances of best found classifier:'\n",
    "feature_importances = pd.DataFrame(data=hps.best_estimator_.feature_importances_,\n",
    "                                   index=feature_names, columns=['impt'])\n",
    "pd.options.display.float_format = '{:.2g}'.format\n",
    "print '\\n', feature_importances.T\n",
    "\n",
    "# --- Hold-Out Set Performance --------------------------------------------------\n",
    "y_pred = hps.best_estimator_.predict(X_test)\n",
    "pd.options.display.float_format = '{:.4g}'.format\n",
    "print '\\n>>> Hold-Out Set Performance:' \n",
    "print pd.DataFrame(metrics.confusion_matrix(y_test, y_pred),\n",
    "                   columns = ['Pred Bad', 'Pred Good'],\n",
    "                   index = ['Actual Bad', 'Actual Good'])\n",
    "print '\\nHold-Out Set Loss:', custom_cost_function(y_test, y_pred)\n",
    "print 'Hold-Out Set Accuracy:', metrics.accuracy_score(y_test, y_pred)"
   ]
  },
  {
   "cell_type": "code",
   "execution_count": 5,
   "metadata": {
    "ExecuteTime": {
     "end_time": "2018-03-11T10:50:50.694000Z",
     "start_time": "2018-03-11T10:50:50.126000Z"
    },
    "cell_style": "center",
    "code_folding": [
     0
    ],
    "collapsed": true
   },
   "outputs": [
    {
     "data": {
      "image/png": "[encoded data removed]",
      "text/plain": [
       "<matplotlib.figure.Figure at 0x8303748>"
      ]
     },
     "metadata": {},
     "output_type": "display_data"
    },
    {
     "data": {
      "image/png": "[encoded data removed]",
      "text/plain": [
       "<matplotlib.figure.Figure at 0x1ea858d0>"
      ]
     },
     "metadata": {},
     "output_type": "display_data"
    },
    {
     "data": {
      "image/png": "[encoded data removed]",
      "text/plain": [
       "<matplotlib.figure.Figure at 0x1f866f60>"
      ]
     },
     "metadata": {},
     "output_type": "display_data"
    },
    {
     "data": {
      "image/png": "[encoded data removed]",
      "text/plain": [
       "<matplotlib.figure.Figure at 0x1f1baf98>"
      ]
     },
     "metadata": {},
     "output_type": "display_data"
    },
    {
     "data": {
      "image/png": "[encoded data removed]",
      "text/plain": [
       "<matplotlib.figure.Figure at 0x1f412f98>"
      ]
     },
     "metadata": {},
     "output_type": "display_data"
    },
    {
     "data": {
      "image/png": "[encoded data removed]",
      "text/plain": [
       "<matplotlib.figure.Figure at 0x1f9ca550>"
      ]
     },
     "metadata": {},
     "output_type": "display_data"
    }
   ],
   "source": [
    "# --- Bayesian Search Convergence Plots -----------------------------------------\n",
    "res.sort_index(inplace=True)\n",
    "for col in res.iloc[:,1:-5].columns.values:\n",
    "    fig = plt.figure(figsize=[11.3, 1.5])\n",
    "    plt.plot(res.index.values, res[col].values, '.', color='w', markersize=5)\n",
    "    plt.plot(res.index.values, res[col].values, '-', color='w', alpha=0.5)\n",
    "    plt.title(col)\n",
    "    plt.xlim([0, iterations-1])\n",
    "    plt.xticks(range(0, iterations))\n",
    "    plt.grid(True, alpha=0.2)\n",
    "    plt.show()"
   ]
  },
  {
   "cell_type": "code",
   "execution_count": 6,
   "metadata": {
    "ExecuteTime": {
     "end_time": "2018-03-11T10:53:11.753000Z",
     "start_time": "2018-03-11T10:50:50.695000Z"
    },
    "cell_style": "center",
    "code_folding": [
     0
    ],
    "collapsed": true
   },
   "outputs": [
    {
     "name": "stdout",
     "output_type": "stream",
     "text": [
      "      TEST    0  1  2  3  4  5  6  7  8  9 10 11 12 13 14 15 16 17 18 19 20 21 22 23 24 25 26 27\n",
      "cost  -170  CHK  -  -  -  -  -  -  -  -  -  -  -  -  -  -  -  -  -  -  -  -  -  -  -  -  -  -  -\n",
      "accu 0.608    1  0  0  0  0  0  0  0  0  0  0  0  0  0  0  0  0  0  0  0  0  0  0  0  0  0  0  0\n",
      "\n",
      "      TEST    0    1  2  3  4  5  6  7  8  9 10 11 12 13 14 15 16 17 18 19 20 21 22 23 24 25 26 27\n",
      "cost  -213  CHK  TPR  -  -  -  -  -  -  -  -  -  -  -  -  -  -  -  -  -  -  -  -  -  -  -  -  -  -\n",
      "accu 0.628    1    1  0  0  0  0  0  0  0  0  0  0  0  0  0  0  0  0  0  0  0  0  0  0  0  0  0  0\n",
      "\n",
      "      TEST    0    1    2  3  4  5  6  7  8  9 10 11 12 13 14 15 16 17 18 19 20 21 22 23 24 25 26 27\n",
      "cost  -232  CHK  MSR  TPR  -  -  -  -  -  -  -  -  -  -  -  -  -  -  -  -  -  -  -  -  -  -  -  -  -\n",
      "accu   0.6    1    1    1  0  0  0  0  0  0  0  0  0  0  0  0  0  0  0  0  0  0  0  0  0  0  0  0  0\n",
      "\n",
      "      TEST    0    1    2    3  4  5  6  7  8  9 10 11 12 13 14 15 16 17 18 19 20 21 22 23 24 25 26 27\n",
      "cost  -202  AMT  CHK  MSR  TPR  -  -  -  -  -  -  -  -  -  -  -  -  -  -  -  -  -  -  -  -  -  -  -  -\n",
      "accu 0.624    1    1    1    1  0  0  0  0  0  0  0  0  0  0  0  0  0  0  0  0  0  0  0  0  0  0  0  0\n",
      "\n",
      "      TEST    0    1    2    3    4  5  6  7  8  9 10 11 12 13 14 15 16 17 18 19 20 21 22 23 24 25 26 27\n",
      "cost  -186  AMT  SAV  CHK  MSR  TPR  -  -  -  -  -  -  -  -  -  -  -  -  -  -  -  -  -  -  -  -  -  -  -\n",
      "accu 0.672    1    1    1    1    1  0  0  0  0  0  0  0  0  0  0  0  0  0  0  0  0  0  0  0  0  0  0  0\n",
      "\n",
      "      TEST    0    1    2    3    4    5  6  7  8  9 10 11 12 13 14 15 16 17 18 19 20 21 22 23 24 25 26 27\n",
      "cost  -196  DUR  AMT  SAV  CHK  MSR  TPR  -  -  -  -  -  -  -  -  -  -  -  -  -  -  -  -  -  -  -  -  -  -\n",
      "accu 0.632    1    1    1    1    1    1  0  0  0  0  0  0  0  0  0  0  0  0  0  0  0  0  0  0  0  0  0  0\n",
      "\n",
      "      TEST    0    1    2    3    4    5    6  7  8  9 10 11 12 13 14 15 16 17 18 19 20 21 22 23 24 25 26 27\n",
      "cost  -185  DUR  AMT  SAV  CHK  IN1  MSR  TPR  -  -  -  -  -  -  -  -  -  -  -  -  -  -  -  -  -  -  -  -  -\n",
      "accu 0.676    1    1    1    1    1    1    1  0  0  0  0  0  0  0  0  0  0  0  0  0  0  0  0  0  0  0  0  0\n",
      "\n",
      "      TEST    0    1    2    3    4    5    6    7  8  9 10 11 12 13 14 15 16 17 18 19 20 21 22 23 24 25 26 27\n",
      "cost  -194  DUR  AMT  SAV  HIS  CHK  IN1  MSR  TPR  -  -  -  -  -  -  -  -  -  -  -  -  -  -  -  -  -  -  -  -\n",
      "accu 0.656    1    1    1    1    1    1    1    1  0  0  0  0  0  0  0  0  0  0  0  0  0  0  0  0  0  0  0  0\n",
      "\n",
      "      TEST    0    1    2    3    4    5    6    7    8  9 10 11 12 13 14 15 16 17 18 19 20 21 22 23 24 25 26  \\\n",
      "cost  -182  DUR  AMT  SAV  HIS  AGE  CHK  IN1  MSR  TPR  -  -  -  -  -  -  -  -  -  -  -  -  -  -  -  -  -  -   \n",
      "accu 0.656    1    1    1    1    1    1    1    1    1  0  0  0  0  0  0  0  0  0  0  0  0  0  0  0  0  0  0   \n",
      "\n",
      "     27  \n",
      "cost  -  \n",
      "accu  0  \n",
      "\n",
      "      TEST    0    1    2    3    4    5    6    7    8    9 10 11 12 13 14 15 16 17 18 19 20 21 22 23 24 25  \\\n",
      "cost  -182  DUR  SAV  HIS  CHK  IN1  TPR  MSR  EXP  AGE  AMT  -  -  -  -  -  -  -  -  -  -  -  -  -  -  -  -   \n",
      "accu 0.656    1    1    1    1    1    1    1    1    1    1  0  0  0  0  0  0  0  0  0  0  0  0  0  0  0  0   \n",
      "\n",
      "     26 27  \n",
      "cost  -  -  \n",
      "accu  0  0  \n",
      "\n",
      "      TEST    0    1    2    3    4    5    6    7    8    9   10 11 12 13 14 15 16 17 18 19 20 21 22 23 24 25  \\\n",
      "cost  -189  DUR  OIP  SAV  HIS  CHK  IN1  TPR  EXP  AGE  AMT  MSR  -  -  -  -  -  -  -  -  -  -  -  -  -  -  -   \n",
      "accu  0.66    1    1    1    1    1    1    1    1    1    1    1  0  0  0  0  0  0  0  0  0  0  0  0  0  0  0   \n",
      "\n",
      "     26 27  \n",
      "cost  -  -  \n",
      "accu  0  0  \n",
      "\n",
      "      TEST    0    1    2    3    4    5    6    7    8    9   10   11 12 13 14 15 16 17 18 19 20 21 22 23 24  \\\n",
      "cost  -184  DUR  OIP  PPT  SAV  HIS  CHK  IN1  TPR  EXP  AGE  AMT  MSR  -  -  -  -  -  -  -  -  -  -  -  -  -   \n",
      "accu 0.648    1    1    1    1    1    1    1    1    1    1    1    1  0  0  0  0  0  0  0  0  0  0  0  0  0   \n",
      "\n",
      "     25 26 27  \n",
      "cost  -  -  -  \n",
      "accu  0  0  0  \n",
      "\n",
      "      TEST    0        1    2    3    4    5    6    7    8    9   10   11   12 13 14 15 16 17 18 19 20 21 22  \\\n",
      "cost  -182  DUR  car_new  OIP  PPT  SAV  HIS  CHK  IN1  EXP  MSR  AGE  AMT  TPR  -  -  -  -  -  -  -  -  -  -   \n",
      "accu 0.672    1        1    1    1    1    1    1    1    1    1    1    1    1  0  0  0  0  0  0  0  0  0  0   \n",
      "\n",
      "     23 24 25 26 27  \n",
      "cost  -  -  -  -  -  \n",
      "accu  0  0  0  0  0  \n",
      "\n",
      "      TEST    0        1    2    3    4    5    6    7    8    9   10   11   12   13 14 15 16 17 18 19 20 21  \\\n",
      "cost  -181  DUR  car_new  OIP  PPT  SAV  HIS  CHK  IN1  EXP  MSR  AGE  AMT  INR  TPR  -  -  -  -  -  -  -  -   \n",
      "accu  0.66    1        1    1    1    1    1    1    1    1    1    1    1    1    1  0  0  0  0  0  0  0  0   \n",
      "\n",
      "     22 23 24 25 26 27  \n",
      "cost  -  -  -  -  -  -  \n",
      "accu  0  0  0  0  0  0  \n",
      "\n",
      "      TEST    0         1        2    3    4    5    6    7    8    9   10   11   12   13   14 15 16 17 18 19  \\\n",
      "cost  -188  DUR  car_used  car_new  OIP  PPT  SAV  HIS  CHK  IN1  EXP  MSR  AMT  INR  AGE  TPR  -  -  -  -  -   \n",
      "accu 0.664    1         1        1    1    1    1    1    1    1    1    1    1    1    1    1  0  0  0  0  0   \n",
      "\n",
      "     20 21 22 23 24 25 26 27  \n",
      "cost  -  -  -  -  -  -  -  -  \n",
      "accu  0  0  0  0  0  0  0  0  \n",
      "\n",
      "      TEST    0     1         2        3    4    5    6    7    8    9   10   11   12   13   14   15 16 17 18  \\\n",
      "cost  -182  DUR  owns  car_used  car_new  OIP  PPT  SAV  HIS  CHK  EXP  TPR  MSR  AMT  INR  AGE  IN1  -  -  -   \n",
      "accu 0.672    1     1         1        1    1    1    1    1    1    1    1    1    1    1    1    1  0  0  0   \n",
      "\n",
      "     19 20 21 22 23 24 25 26 27  \n",
      "cost  -  -  -  -  -  -  -  -  -  \n",
      "accu  0  0  0  0  0  0  0  0  0  \n",
      "\n",
      "      TEST    0     1         2        3    4    5    6    7    8    9   10   11   12   13   14   15   16 17  \\\n",
      "cost  -184  DUR  owns  car_used  car_new  OIP  PPT  SEX  SAV  HIS  CHK  EXP  TPR  MSR  AMT  INR  IN1  AGE  -   \n",
      "accu  0.68    1     1         1        1    1    1    1    1    1    1    1    1    1    1    1    1    1  0   \n",
      "\n",
      "     18 19 20 21 22 23 24 25 26 27  \n",
      "cost  -  -  -  -  -  -  -  -  -  -  \n",
      "accu  0  0  0  0  0  0  0  0  0  0  \n",
      "\n",
      "      TEST    0     1         2        3    4    5    6    7    8    9   10   11   12   13   14   15   16   17  \\\n",
      "cost  -181  DUR  owns  car_used  car_new  TEL  OIP  PPT  SEX  SAV  HIS  EXP  IN1  TPR  AMT  MSR  INR  CHK  AGE   \n",
      "accu  0.66    1     1         1        1    1    1    1    1    1    1    1    1    1    1    1    1    1    1   \n",
      "\n",
      "     18 19 20 21 22 23 24 25 26 27  \n",
      "cost  -  -  -  -  -  -  -  -  -  -  \n",
      "accu  0  0  0  0  0  0  0  0  0  0  \n",
      "\n",
      "      TEST    0     1         2        3    4    5    6    7    8    9   10   11   12   13   14   15   16   17  \\\n",
      "cost  -190  DUR  owns  car_used  car_new  TEL  OIP  PPT  SEX  SAV  HIS  EXP  IN1  AMT  INR  CHK  AGE  RES  MSR   \n",
      "accu 0.672    1     1         1        1    1    1    1    1    1    1    1    1    1    1    1    1    1    1   \n",
      "\n",
      "       18 19 20 21 22 23 24 25 26 27  \n",
      "cost  TPR  -  -  -  -  -  -  -  -  -  \n",
      "accu    1  0  0  0  0  0  0  0  0  0  \n",
      "\n",
      "      TEST    0     1         2        3    4    5    6    7    8    9   10   11   12   13   14   15   16   17  \\\n",
      "cost  -194  DUR  owns  car_used  car_new  TEL  OIP  PPT  SEX  SAV  HIS  EXP  IN1  AMT  INR  CHK  AGE  RES  MSR   \n",
      "accu 0.656    1     1         1        1    1    1    1    1    1    1    1    1    1    1    1    1    1    1   \n",
      "\n",
      "       18       19 20 21 22 23 24 25 26 27  \n",
      "cost  TPR  skilled  -  -  -  -  -  -  -  -  \n",
      "accu    1        1  0  0  0  0  0  0  0  0  \n",
      "\n",
      "      TEST    0     1      2         3        4    5    6    7    8    9   10   11   12   13   14   15   16  \\\n",
      "cost  -189  DUR  owns  rents  car_used  car_new  TEL  OIP  PPT  SEX  SAV  HIS  EXP  IN1  TPR  MSR  AGE  RES   \n",
      "accu  0.66    1     1      1         1        1    1    1    1    1    1    1    1    1    1    1    1    1   \n",
      "\n",
      "       17   18   19       20 21 22 23 24 25 26 27  \n",
      "cost  INR  AMT  CHK  skilled  -  -  -  -  -  -  -  \n",
      "accu    1    1    1        1  0  0  0  0  0  0  0  \n",
      "\n",
      "      TEST    0     1      2         3        4    5    6    7    8    9   10   11   12   13   14   15   16  \\\n",
      "cost  -184  DUR  owns  rents  car_used  car_new  TEL  OIP  PPT  SEX  SAV  HIS  EXP  IN1  TPR  MSR  CRD  AGE   \n",
      "accu 0.664    1     1      1         1        1    1    1    1    1    1    1    1    1    1    1    1    1   \n",
      "\n",
      "       17   18   19   20       21 22 23 24 25 26 27  \n",
      "cost  RES  INR  AMT  CHK  skilled  -  -  -  -  -  -  \n",
      "accu    1    1    1    1        1  0  0  0  0  0  0  \n",
      "\n"
     ]
    },
    {
     "name": "stdout",
     "output_type": "stream",
     "text": [
      "      TEST    0     1      2         3         4        5    6    7    8    9   10   11   12   13   14   15  \\\n",
      "cost  -190  DUR  owns  rents  deb_none  car_used  car_new  TEL  OIP  PPT  SEX  SAV  EXP  CHK  IN1  TPR  MSR   \n",
      "accu 0.688    1     1      1         1         1        1    1    1    1    1    1    1    1    1    1    1   \n",
      "\n",
      "       16   17   18   19   20   21       22 23 24 25 26 27  \n",
      "cost  CRD  AGE  RES  INR  AMT  HIS  skilled  -  -  -  -  -  \n",
      "accu    1    1    1    1    1    1        1  0  0  0  0  0  \n",
      "\n",
      "      TEST    0     1      2         3         4        5    6    7    8    9         10   11   12   13   14  \\\n",
      "cost  -188  DUR  owns  rents  deb_none  car_used  car_new  TEL  OIP  PPT  SEX  unskilled  SAV  EXP  CHK  IN1   \n",
      "accu 0.664    1     1      1         1         1        1    1    1    1    1          1    1    1    1    1   \n",
      "\n",
      "       15   16   17   18   19   20   21   22       23 24 25 26 27  \n",
      "cost  TPR  MSR  CRD  AGE  RES  INR  AMT  HIS  skilled  -  -  -  -  \n",
      "accu    1    1    1    1    1    1    1    1        1  0  0  0  0  \n",
      "\n",
      "      TEST    0     1      2         3         4        5    6    7    8    9         10   11   12   13   14  \\\n",
      "cost  -180  DUR  owns  rents  deb_none  car_used  car_new  TEL  OIP  PPT  SEX  unskilled  SAV  EXP  CHK  IN1   \n",
      "accu  0.68    1     1      1         1         1        1    1    1    1    1          1    1    1    1    1   \n",
      "\n",
      "       15   16   17   18   19   20   21   22   23       24 25 26 27  \n",
      "cost  TPR  MSR  PPL  CRD  AGE  RES  INR  AMT  HIS  skilled  -  -  -  \n",
      "accu    1    1    1    1    1    1    1    1    1        1  0  0  0  \n",
      "\n",
      "      TEST    0     1      2         3         4        5    6    7    8    9   10         11   12   13   14  \\\n",
      "cost  -192  DUR  owns  rents  deb_none  car_used  car_new  FRN  TEL  OIP  PPT  SEX  unskilled  EXP  HIS  CHK   \n",
      "accu 0.664    1     1      1         1         1        1    1    1    1    1    1          1    1    1    1   \n",
      "\n",
      "       15   16   17   18   19   20   21   22   23   24       25 26 27  \n",
      "cost  IN1  TPR  MSR  PPL  CRD  AGE  RES  INR  AMT  SAV  skilled  -  -  \n",
      "accu    1    1    1    1    1    1    1    1    1    1        1  0  0  \n",
      "\n",
      "      TEST    0      1     2      3         4         5        6    7    8    9   10   11         12   13   14  \\\n",
      "cost  -177  DUR  unemp  owns  rents  deb_none  car_used  car_new  FRN  TEL  OIP  PPT  SEX  unskilled  EXP  HIS   \n",
      "accu 0.676    1      1     1      1         1         1        1    1    1    1    1    1          1    1    1   \n",
      "\n",
      "       15   16   17   18   19   20   21   22   23   24   25       26 27  \n",
      "cost  CHK  IN1  TPR  MSR  PPL  CRD  AGE  RES  INR  AMT  SAV  skilled  -  \n",
      "accu    1    1    1    1    1    1    1    1    1    1    1        1  0  \n",
      "\n",
      "      TEST    0      1     2      3         4         5         6        7    8    9   10   11   12   13   14  \\\n",
      "cost  -172  DUR  unemp  owns  rents  deb_coap  deb_none  car_used  car_new  FRN  TEL  OIP  PPT  SEX  EXP  SAV   \n",
      "accu 0.696    1      1     1      1         1         1         1        1    1    1    1    1    1    1    1   \n",
      "\n",
      "       15   16   17   18   19   20   21   22   23   24   25         26       27  \n",
      "cost  HIS  CHK  IN1  TPR  MSR  PPL  CRD  AGE  RES  INR  AMT  unskilled  skilled  \n",
      "accu    1    1    1    1    1    1    1    1    1    1    1          1        1  \n",
      "\n"
     ]
    }
   ],
   "source": [
    "# --- Recursive Feature Elimination ---------------------------------------------******************************\n",
    "pd.options.display.float_format = '{:.3g}'.format\n",
    "\n",
    "for n_features in range(1, len(feature_names)+1):\n",
    "    \n",
    "    # Setting up the selector\n",
    "    selector = RFE(hps.best_estimator_, n_features_to_select=n_features)\n",
    "    \n",
    "    # Fitting selector\n",
    "    selector = selector.fit(X_train, y_train)\n",
    "    \n",
    "    # Harvesting selected feature rankings\n",
    "    rank = pd.Series(data=selector.ranking_, name='cost', index=feature_names)\n",
    "    \n",
    "    # Masks will be used to find the selected features and create the hold-set\n",
    "    masks = [0 if mask==False else 1 for mask in selector.support_.tolist()]\n",
    "    masks = pd.Series(data=masks, name='accu', index=feature_names)\n",
    "    \n",
    "    # Results dataframe\n",
    "    res = pd.concat([rank, masks], axis=1).sort_values(['cost'])\n",
    "    res['cost'] = res.index.values\n",
    "    res.reset_index(inplace=True, drop=True)\n",
    "    res = res.T\n",
    "    \n",
    "    # Finding selected features with mask values\n",
    "    cols = []\n",
    "    for j in res.columns:\n",
    "        if res.loc['accu', j] == 1:\n",
    "            cols.append(res.loc['cost', j])\n",
    "        else:\n",
    "            res.loc['cost', j] = '-'\n",
    "            \n",
    "    # Creating the new hold-out set with only the selected features\n",
    "    X_tr, X_te, y_tr, y_te = train_test_split(df[cols].values, y, \n",
    "                                              random_state=2018)\n",
    "    '''\n",
    "    [Note] Different set names have been used so that they do not replace the\n",
    "           original training and hold-sets that were created earlier\n",
    "    '''\n",
    "    # Training RFC with only the selected features\n",
    "    model = hps.best_estimator_.fit(X_tr, y_tr)\n",
    "    \n",
    "    # Getting predictions\n",
    "    y_pr = model.predict(X_te)\n",
    "    \n",
    "    # Computing hold-out set cost and accuracy\n",
    "    cost = custom_cost_function(y_te, y_pr)\n",
    "    accu = metrics.accuracy_score(y_te, y_pr)\n",
    "    \n",
    "    # Attaching hold-out set results to results dataframe\n",
    "    test = pd.DataFrame(data=[cost, accu], index=['cost', 'accu'], \n",
    "                        columns=['TEST'])\n",
    "    print pd.concat([test, res], axis=1)\n",
    "    print"
   ]
  },
  {
   "cell_type": "markdown",
   "metadata": {},
   "source": [
    "### Conclusion: hold-out set performance cannot be improved with feature elimination"
   ]
  },
  {
   "cell_type": "markdown",
   "metadata": {
    "cell_style": "center"
   },
   "source": [
    "## 4. Custom Datasets (Attempt)\n",
    "---\n",
    "Some of the numerical features are using the same original numerical features (AMR, INR, DUR) so here we test to see if not including the duplicated pieces of information about a record will yield better hold-out set performance:\n",
    "- Set 1: AMT, DUR, INR, TPR, IN1 Removed MSR and everything else stays\n",
    "- Set 2: AMT, DUR, INR, MPR, IN1 Removed TPR and everything else stays\n",
    "- Set 2: AMT, INR, MSR, TPR Removed IN1 and everything else stays (DUR not removed as IN1 does not use it)\n",
    "- Set 2: No new numerical features (MSR, TPR and IN1 removed)"
   ]
  },
  {
   "cell_type": "code",
   "execution_count": 7,
   "metadata": {
    "ExecuteTime": {
     "end_time": "2018-03-11T10:56:18.359000Z",
     "start_time": "2018-03-11T10:53:11.755000Z"
    },
    "cell_style": "center",
    "code_folding": [
     0,
     1
    ],
    "collapsed": true
   },
   "outputs": [
    {
     "name": "stdout",
     "output_type": "stream",
     "text": [
      ">>> M S R ----------------------------------------------------------------\n",
      "      RES   AGE   CRD  PPL  MSR  CHK   HIS  SAV   EXP   SEX  PPT   OIP  TEL  FRN  car_new  car_used  deb_none  \\\n",
      "impt    0 0.068 0.014    0 0.15 0.16 0.055 0.16 0.027 0.014 0.12 0.082    0    0    0.041     0.014     0.014   \n",
      "\n",
      "      deb_coap  rents  owns  unemp  unskilled  skilled  \n",
      "impt         0      0 0.068      0          0        0  \n",
      "\n",
      "             Pred Bad  Pred Good\n",
      "Actual Bad         59         23\n",
      "Actual Good        68        100\n",
      "\n",
      "Hold-Out Set Loss: -183\n",
      "Hold-Out Set Accuracy: 0.636\n",
      ">>> T P R ----------------------------------------------------------------\n",
      "        RES   AGE   CRD    PPL  TPR  CHK   HIS  SAV   EXP   SEX   PPT  OIP    TEL    FRN  car_new  car_used  \\\n",
      "impt 0.0075 0.043 0.014 0.0054  0.2  0.3 0.047 0.11 0.044 0.023 0.051 0.04 0.0023 0.0077    0.027     0.031   \n",
      "\n",
      "      deb_none  deb_coap  rents  owns  unemp  unskilled  skilled  \n",
      "impt     0.004    0.0017  0.009 0.019 0.0013     0.0071   0.0014  \n",
      "\n",
      "             Pred Bad  Pred Good\n",
      "Actual Bad         56         26\n",
      "Actual Good        58        110\n",
      "\n",
      "Hold-Out Set Loss: -188\n",
      "Hold-Out Set Accuracy: 0.664\n",
      ">>> I N 1 ----------------------------------------------------------------\n",
      "      DUR    RES   AGE    CRD  PPL  IN1  CHK   HIS  SAV   EXP   SEX   PPT  OIP    TEL  FRN  car_new  car_used  \\\n",
      "impt 0.13 0.0093 0.051 0.0061    0 0.11 0.34 0.047 0.12 0.042 0.027 0.049 0.01 0.0076    0    0.018         0   \n",
      "\n",
      "      deb_none  deb_coap  rents  owns  unemp  unskilled  skilled  \n",
      "impt         0         0 0.0043 0.021      0    0.00092    0.006  \n",
      "\n",
      "             Pred Bad  Pred Good\n",
      "Actual Bad         58         24\n",
      "Actual Good        55        113\n",
      "\n",
      "Hold-Out Set Loss: -175\n",
      "Hold-Out Set Accuracy: 0.684\n",
      ">>> N O   N E W   N U M E R I C A L   I N T E R A C T I O N S  -----------\n",
      "      DUR  AMT    INR   RES   AGE     CRD  PPL  CHK   HIS   SAV   EXP   SEX   PPT    OIP   TEL  FRN  car_new  \\\n",
      "impt 0.18 0.15 0.0097 0.003 0.042 0.00054    0 0.31 0.078 0.093 0.013 0.016 0.049 0.0029 0.009    0   0.0036   \n",
      "\n",
      "      car_used  deb_none  deb_coap  rents  owns  unemp  unskilled  skilled  \n",
      "impt         0         0         0 0.0032 0.042      0          0   0.0005  \n",
      "\n",
      "             Pred Bad  Pred Good\n",
      "Actual Bad         58         24\n",
      "Actual Good        59        109\n",
      "\n",
      "Hold-Out Set Loss: -179\n",
      "Hold-Out Set Accuracy: 0.668\n"
     ]
    }
   ],
   "source": [
    "# --- Testing Routine (HPS and the Hold-Out set scores) -------------------------******************************\n",
    "def CUSTOM_DF_TEST(cdf):\n",
    "    '''\n",
    "    [Description]\n",
    "    -----------------------------------------------------------------------------\n",
    "    1. Creates new training and hold-out sets\n",
    "    2. Conducts Bayesian Hyperparameter Search with new custom dataset\n",
    "    3. Prints feature importances\n",
    "    4. Prints hold-out set performance\n",
    "    \n",
    "    [Inputs]\n",
    "    -----------------------------------------------------------------------------\n",
    "    _________\n",
    "    custom_df|   [pandas DataFrame]\n",
    "                 The custom dataframe\n",
    "                 \n",
    "    [Outputs]\n",
    "    -----------------------------------------------------------------------------\n",
    "    _________\n",
    "    *list*   |   [list]\n",
    "                 Contains:\n",
    "                 - the fitted Bayesian hyperparameter search object\n",
    "                 - the modified hyperparameter search results dataframe\n",
    "                 - feature importance dataframe\n",
    "    '''\n",
    "    \n",
    "    # --- Creatign New Training and hold-out sets -------------------------------\n",
    "    cfeature_names = cdf.columns.tolist()\n",
    "    X_tr, X_te, y_tr, y_te = train_test_split(cdf.values, y, random_state = 2018)\n",
    "    \n",
    "     # --- Bayesian Hyperparameter Search ---------------------------------------\n",
    "    chps = BSCV(DT_rfc, params, cv=folds, n_iter=iterations, scoring=scoring,\n",
    "                iid=True, return_train_score=False, random_state=2018)\n",
    "    chps.fit(X_tr, y_tr)\n",
    "    winsound.Beep(1800,50); winsound.Beep(1500,75); winsound.Beep(1200,100)\n",
    "\n",
    "    # --- Formating Hyperparameter Search Results -------------------------------\n",
    "    cres = pd.DataFrame(chps.cv_results_)\n",
    "    a = cres[['mean_test_score', 'std_test_score']]\n",
    "    cres.drop(['mean_test_score', 'std_test_score', 'params', 'mean_fit_time', \n",
    "               'mean_score_time', 'std_fit_time', 'std_score_time', \n",
    "               'rank_test_score'], axis=1, inplace=True)\n",
    "    total_cost = cres.loc[:, 'split0_test_score']\n",
    "    for i in range(1, folds):\n",
    "        total_cost = total_cost + cres.loc[:, 'split{}_test_score'.format(i)]\n",
    "    total_cost.name = 'total_cost'\n",
    "    cres = pd.concat([total_cost, a, cres], axis=1)\n",
    "    cres.sort_values(by=['total_cost'], inplace=True, ascending=False)\n",
    "\n",
    "    # --- Feature Importance Results --------------------------------------------\n",
    "    cfeature_imps = pd.DataFrame(data=chps.best_estimator_.feature_importances_,\n",
    "                                 index=cfeature_names, columns=['impt'])\n",
    "    pd.options.display.float_format = '{:.2g}'.format\n",
    "    print cfeature_imps.T\n",
    "\n",
    "    # --- Hold-Out Set Performance ----------------------------------------------\n",
    "    y_pr = chps.best_estimator_.predict(X_te)\n",
    "    pd.options.display.float_format = '{:.4g}'.format\n",
    "    print '\\n', pd.DataFrame(metrics.confusion_matrix(y_te, y_pr),\n",
    "                             columns = ['Pred Bad', 'Pred Good'],\n",
    "                             index = ['Actual Bad', 'Actual Good'])\n",
    "    print '\\nHold-Out Set Loss:', custom_cost_function(y_te, y_pr)\n",
    "    print 'Hold-Out Set Accuracy:', metrics.accuracy_score(y_te, y_pr)\n",
    "    return [chps, cres, cfeature_imps]\n",
    "\n",
    "# --- MSR in & AMT, DUR, INR, TPR and IN1 out -----------------------------------\n",
    "cdf = df.drop(['AMT', 'DUR', 'INR', 'TPR', 'IN1'], axis=1)\n",
    "print '>>> M S R ----------------------------------------------------------------'\n",
    "kMSR = CUSTOM_DF_TEST(cdf)\n",
    "\n",
    "# --- TPR in & AMT, DUR, INR, MSR and IN1 out -----------------------------------\n",
    "cdf = df.drop(['AMT', 'DUR', 'INR', 'MSR', 'IN1'], axis=1)\n",
    "print '>>> T P R ----------------------------------------------------------------'\n",
    "kTPR = CUSTOM_DF_TEST(cdf)\n",
    "\n",
    "# --- IN1 & DUR in & AMT, INR, MSR and TPR out ----------------------------------\n",
    "cdf = df.drop(['AMT', 'INR', 'MSR', 'TPR'], axis=1)\n",
    "print '>>> I N 1 ----------------------------------------------------------------'\n",
    "kIN1 = CUSTOM_DF_TEST(cdf)\n",
    "\n",
    "# --- MSR, TPR and IN1 out ------------------------------------------------------\n",
    "cdf = df.drop(['IN1', 'MSR', 'TPR'], axis=1)\n",
    "print '>>> N O   N E W   N U M E R I C A L   I N T E R A C T I O N S  -----------'\n",
    "defu = CUSTOM_DF_TEST(cdf)"
   ]
  },
  {
   "cell_type": "markdown",
   "metadata": {},
   "source": [
    "### Conclusion: None of the custom datasets are improving the hold-out accraucy either"
   ]
  },
  {
   "cell_type": "markdown",
   "metadata": {},
   "source": [
    "## 5. Preprocessing: Scaling features\n",
    "---\n",
    "Logistic Regression and Support Vector classifiers requrie a scaled dataset"
   ]
  },
  {
   "cell_type": "code",
   "execution_count": 8,
   "metadata": {
    "ExecuteTime": {
     "end_time": "2018-03-11T10:56:18.398000Z",
     "start_time": "2018-03-11T10:56:18.360000Z"
    },
    "code_folding": [
     0
    ]
   },
   "outputs": [
    {
     "name": "stdout",
     "output_type": "stream",
     "text": [
      "       DUR      AMT   INR   RES   AGE   CRD   PPL    MSR      TPR    IN1   CHK   HIS   SAV   EXP   SEX   PPT  \\\n",
      "mean 20.90  3271.26  2.97  2.85 35.55  1.41  1.16  92.10  2469.32  88.70  2.58  2.54  2.10  3.38  2.68  2.36   \n",
      "std  12.06  2822.74  1.12  1.10 11.38  0.58  0.36 131.56  3623.67  79.48  1.26  1.08  1.58  1.21  0.71  1.05   \n",
      "min   4.00   250.00  1.00  1.00 19.00  1.00  1.00   1.53    24.04   5.00  1.00  0.00  1.00  1.00  1.00  1.00   \n",
      "max  72.00 18424.00  4.00  4.00 75.00  4.00  2.00 957.96 33664.80 572.72  4.00  4.00  5.00  5.00  4.00  4.00   \n",
      "\n",
      "       OIP   TEL   FRN  car_new  car_used  deb_none  deb_coap  rents  owns  unemp  unskilled  skilled  \n",
      "mean  2.67  1.40  1.04     0.23      0.10      0.91      0.04   0.18  0.71   0.02       0.20     0.63  \n",
      "std   0.71  0.49  0.19     0.42      0.30      0.29      0.20   0.38  0.45   0.15       0.40     0.48  \n",
      "min   1.00  1.00  1.00     0.00      0.00      0.00      0.00   0.00  0.00   0.00       0.00     0.00  \n",
      "max   3.00  2.00  2.00     1.00      1.00      1.00      1.00   1.00  1.00   1.00       1.00     1.00   \n",
      "\n"
     ]
    }
   ],
   "source": [
    "# Unscaled data\n",
    "pd.options.display.float_format = '{:5.2f}'.format\n",
    "print df.describe().iloc[[1,2,3,7],:], '\\n'"
   ]
  },
  {
   "cell_type": "code",
   "execution_count": 9,
   "metadata": {
    "ExecuteTime": {
     "end_time": "2018-03-11T10:56:18.507000Z",
     "start_time": "2018-03-11T10:56:18.400000Z"
    }
   },
   "outputs": [
    {
     "name": "stdout",
     "output_type": "stream",
     "text": [
      ">>> MinMax ---------------------------------------------------------------\n",
      "       DUR   AMT   INR   RES   AGE   CRD   PPL   MSR   TPR   IN1   CHK   HIS   SAV   EXP   SEX   PPT   OIP  \\\n",
      "mean  0.25  0.17  0.66  0.62  0.30  0.14  0.15  0.09  0.07  0.15  0.53  0.64  0.28  0.60  0.56  0.45  0.84   \n",
      "std   0.18  0.16  0.37  0.37  0.20  0.19  0.36  0.14  0.11  0.14  0.42  0.27  0.40  0.30  0.24  0.35  0.35   \n",
      "min   0.00  0.00  0.00  0.00  0.00  0.00  0.00  0.00  0.00  0.00  0.00  0.00  0.00  0.00  0.00  0.00  0.00   \n",
      "max   1.00  1.00  1.00  1.00  1.00  1.00  1.00  1.00  1.00  1.00  1.00  1.00  1.00  1.00  1.00  1.00  1.00   \n",
      "\n",
      "       TEL   FRN  car_new  car_used  deb_none  deb_coap  rents  owns  unemp  unskilled  skilled  \n",
      "mean  0.40  0.04     0.23      0.10      0.91      0.04   0.18  0.71   0.02       0.20     0.63  \n",
      "std   0.49  0.19     0.42      0.30      0.29      0.20   0.38  0.45   0.15       0.40     0.48  \n",
      "min   0.00  0.00     0.00      0.00      0.00      0.00   0.00  0.00   0.00       0.00     0.00  \n",
      "max   1.00  1.00     1.00      1.00      1.00      1.00   1.00  1.00   1.00       1.00     1.00   \n",
      "\n"
     ]
    }
   ],
   "source": [
    "print '>>> MinMax ---------------------------------------------------------------'\n",
    "X_minmax = MinMaxScaler().fit_transform(df.values)\n",
    "df_minmax = pd.DataFrame(data=X_minmax, columns=df.columns)\n",
    "print df_minmax.describe().iloc[[1,2,3,7],:], '\\n'"
   ]
  },
  {
   "cell_type": "code",
   "execution_count": 10,
   "metadata": {
    "ExecuteTime": {
     "end_time": "2018-03-11T10:56:18.599000Z",
     "start_time": "2018-03-11T10:56:18.509000Z"
    }
   },
   "outputs": [
    {
     "name": "stdout",
     "output_type": "stream",
     "text": [
      ">>> StandardScaler -------------------------------------------------------\n",
      "       DUR   AMT   INR   RES   AGE   CRD   PPL   MSR   TPR   IN1   CHK   HIS   SAV   EXP   SEX   PPT   OIP  \\\n",
      "mean  0.00  0.00  0.00 -0.00  0.00 -0.00 -0.00 -0.00  0.00  0.00 -0.00 -0.00 -0.00  0.00  0.00 -0.00  0.00   \n",
      "std   1.00  1.00  1.00  1.00  1.00  1.00  1.00  1.00  1.00  1.00  1.00  1.00  1.00  1.00  1.00  1.00  1.00   \n",
      "min  -1.40 -1.07 -1.76 -1.67 -1.46 -0.70 -0.43 -0.69 -0.68 -1.05 -1.25 -2.35 -0.70 -1.97 -2.38 -1.29 -2.38   \n",
      "max   4.24  5.37  0.92  1.05  3.47  4.49  2.33  6.59  8.61  6.09  1.13  1.34  1.83  1.34  1.86  1.56  0.46   \n",
      "\n",
      "       TEL   FRN  car_new  car_used  deb_none  deb_coap  rents  owns  unemp  unskilled  skilled  \n",
      "mean -0.00  0.00     0.00      0.00      0.00      0.00   0.00  0.00  -0.00      -0.00    -0.00  \n",
      "std   1.00  1.00     1.00      1.00      1.00      1.00   1.00  1.00   1.00       1.00     1.00  \n",
      "min  -0.82 -0.20    -0.55     -0.34     -3.12     -0.21  -0.47 -1.58  -0.15      -0.50    -1.30  \n",
      "max   1.21  5.10     1.81      2.95      0.32      4.84   2.14  0.63   6.67       2.00     0.77   \n",
      "\n"
     ]
    }
   ],
   "source": [
    "print '>>> StandardScaler -------------------------------------------------------'\n",
    "X_normalized = StandardScaler().fit_transform(df.values)\n",
    "df_normalized = pd.DataFrame(data=X_normalized, columns=df.columns)\n",
    "print df_normalized.describe().iloc[[1,2,3,7],:], '\\n'"
   ]
  },
  {
   "cell_type": "code",
   "execution_count": 11,
   "metadata": {
    "ExecuteTime": {
     "end_time": "2018-03-11T10:56:18.949000Z",
     "start_time": "2018-03-11T10:56:18.601000Z"
    },
    "cell_style": "center",
    "code_folding": []
   },
   "outputs": [
    {
     "name": "stdout",
     "output_type": "stream",
     "text": [
      ">>> Sample Dictionary {'CHK'}\n",
      "     CHK_rank  minmax  normalized  count\n",
      "A11         1    0.00       -1.25    274\n",
      "A12         2    0.33       -0.46    269\n",
      "A13         3    0.67        0.34     63\n",
      "A14         4    1.00        1.13    394\n"
     ]
    }
   ],
   "source": [
    "# --- Creating Ordinal Dictionaries (for later reference) -----------------------\n",
    "ordinals = ('CHK', 'HIS', 'SAV', 'EXP', 'SEX', 'PPT', 'OIP')\n",
    "ordi_dicts = {}\n",
    "for col in ordinals:\n",
    "    index = doc[col].value_counts().index.tolist()\n",
    "    a = df[col].value_counts().index.tolist()\n",
    "    b = df_minmax[col].value_counts().index.tolist()\n",
    "    c = df_normalized[col].value_counts().index.tolist()\n",
    "    d = df[col].value_counts().values.tolist()\n",
    "    dict_i = pd.DataFrame({col+'_rank': a, 'minmax': b, 'normalized':c, 'count': d})\n",
    "    dict_i.index = index\n",
    "    dict_i = dict_i[[col+'_rank', 'minmax', 'normalized', 'count']]\n",
    "    dict_i.sort_values(col+'_rank', inplace=True)\n",
    "    ordi_dicts[col] = dict_i\n",
    "    \n",
    "# Sample dictionary\n",
    "print \">>> Sample Dictionary {'CHK'}\"\n",
    "print ordi_dicts['CHK']\n",
    "\n",
    "# --- Pickling ------------------------------------------------------------------\n",
    "# with open('pickles/feature_names.pkl','wb') as my_file:\n",
    "#     pickle.dump(feature_names, my_file)\n",
    "\n",
    "# with open('pickles/ordinal_dicts.pkl','wb') as my_file:\n",
    "#     pickle.dump(ordi_dicts, my_file)\n",
    "    \n",
    "# with open('pickles/unscaled_dataset.pkl','wb') as my_file:\n",
    "#     pickle.dump(df.values, my_file)\n",
    "\n",
    "# with open('pickles/normalized_dataset.pkl','wb') as my_file:\n",
    "#     X_normalized = StandardScaler().fit_transform(df.values)\n",
    "#     pickle.dump(X_normalized, my_file)\n",
    "\n",
    "# with open('pickles/minmax_dataset.pkl','wb') as my_file:\n",
    "#     X_minmax = MinMaxScaler().fit_transform(df.values)\n",
    "#     pickle.dump(X_minmax, my_file)"
   ]
  },
  {
   "cell_type": "markdown",
   "metadata": {},
   "source": [
    "## 6. Tuning Classifiers\n",
    "---\n",
    "- Part 1: Creating the routine that tunes the classifiers and tests the tuned calssifier with hold-outset and generates the performance metrics\n",
    "- Part 2: Declaring the hyperparameters for each type of classifier\n",
    "- Parts 3 to 6: Tuning Logistic Regression and Support Vector classifiers with Normalized dataset\n",
    "- Parts 7 to 10: Tuning Logistic Regression and Support Vector classifiers with MinMax dataset\n",
    "- Parts 10 to 13: Turning Decision Tree, Gradient Boosting, Random Forests and Extremely Randomized Tress with Unscaled dataset\n",
    "- Part 14: Pickling results"
   ]
  },
  {
   "cell_type": "code",
   "execution_count": 12,
   "metadata": {
    "ExecuteTime": {
     "end_time": "2018-03-11T10:56:18.982000Z",
     "start_time": "2018-03-11T10:56:18.951000Z"
    },
    "cell_style": "center",
    "code_folding": [
     0
    ],
    "hidePrompt": false
   },
   "outputs": [],
   "source": [
    "# --- Defining routine (Hyperparameter Search and Hold-Out set test) ------------\n",
    "def RUN_HPS(X, y, clf, param, iters, name, folds=3, mode='custom', sam_wei=None):\n",
    "    '''\n",
    "    [Description]\n",
    "    -----------------------------------------------------------------------------\n",
    "    Runs Bayesian Hyperparameter Search (HPS) to tune the selected classifiers.\n",
    "    \n",
    "    [Inputs]\n",
    "    -----------------------------------------------------------------------------\n",
    "    ________\n",
    "    X       |   [list]\n",
    "                Features\n",
    "    ________\n",
    "    y       |   [list]\n",
    "                Labels\n",
    "    ________\n",
    "    clf     |   [sklearn classifier object]\n",
    "                The classifier object that is to be tuned and test\n",
    "    ________\n",
    "    param   |   [dictionary]\n",
    "                Hyperparameters to tune\n",
    "    ________\n",
    "    iters   |   [integer]\n",
    "                Number of iterations allocated for the Bayesian Search\n",
    "    ________\n",
    "    name    |   [string]\n",
    "                Name of the classifier\n",
    "    ________\n",
    "    folds   |   [integer] Default = 3\n",
    "                Number of folds for cross-validation\n",
    "    ________\n",
    "    mode    |   [string] Default = 'custom'\n",
    "                The metric for which the Bayesian Hyperparameter search will\n",
    "                tune to optimize. Either 'custom' (custom cost function) or\n",
    "                'roc_auc'\n",
    "    ________\n",
    "    sam_wei |   [list] Default = None\n",
    "                Sample weights. Some sklearn classifiers do not have a\n",
    "                class_weight parameter however they all do have sample_weights.\n",
    "                If specified, sample weights will be fed into the Bayesian Search\n",
    "                \n",
    "    [Outputs]\n",
    "    -----------------------------------------------------------------------------\n",
    "    ____________\n",
    "    *estimator* |   [fitted sklearn classifier object]\n",
    "                    The tuned classifier that the Bayesian Hyperparameter Search\n",
    "                    has produced\n",
    "    ____________\n",
    "    cm          |   [pandas Series]\n",
    "                    Contains confusion matrix elements in this order:\n",
    "                    - False Positive\n",
    "                    - False Negative\n",
    "                    - True Positive\n",
    "                    - True Negative\n",
    "                    Name of the series is the name passed into the funciton\n",
    "    '''\n",
    "    X_train, X_test, y_train, y_test = train_test_split(X, y, random_state=2018)\n",
    "    \n",
    "    if mode == 'custom':\n",
    "        func = cost_function\n",
    "    elif mode == 'roc_auc':\n",
    "        func = 'roc_auc'\n",
    "        \n",
    "    # Bayesian hyperparameter search\n",
    "    if sam_wei == None:\n",
    "        hps = BSCV(clf, param, cv=folds, n_iter=iters, scoring=func, iid=True, \n",
    "                   return_train_score=False, random_state=2018)\n",
    "        hps.fit(X_train, y_train)\n",
    "    else:\n",
    "        hps = BSCV(clf, param, cv=folds, n_iter=iters, scoring=func, iid=True, \n",
    "                   return_train_score=False, random_state=2018, \n",
    "                   fit_params=sam_wei)\n",
    "        hps.fit(X_train, y_train)\n",
    "    winsound.Beep(1800,50); winsound.Beep(1500,75); winsound.Beep(1200,100)\n",
    "    \n",
    "    # Hold-Out set performance metrics\n",
    "    y_pred = hps.best_estimator_.predict(X_test)\n",
    "    COST = custom_cost_function(y_test, y_pred)\n",
    "    ACC = metrics.accuracy_score(y_test, y_pred)\n",
    "    \n",
    "    # Hold-out set confusion matrix\n",
    "    cm = pd.DataFrame(metrics.confusion_matrix(y_test, y_pred),\n",
    "                      columns = ['Pred Bad', 'Pred Good'],\n",
    "                      index = ['Actual Bad', 'Actual Good'])\n",
    "    TN = cm.loc['Actual Bad', 'Pred Bad']\n",
    "    FP = cm.loc['Actual Bad', 'Pred Good']\n",
    "    TP = cm.loc['Actual Good', 'Pred Good']\n",
    "    FN = cm.loc['Actual Good', 'Pred Bad']\n",
    "    cm = pd.Series(data={'FP':FP, 'FN':FN, 'TP':TP, 'TN':TN}, name=name)\n",
    "    print '{} |{:4g} |{:4g} |{:4g} |{:4g} |{:6g}  |{:7.3f}  |'.format(name, FP, \n",
    "                                                                      FN, TP, TN,\n",
    "                                                                      COST, ACC)\n",
    "    return hps.best_estimator_, cm"
   ]
  },
  {
   "cell_type": "code",
   "execution_count": 13,
   "metadata": {
    "ExecuteTime": {
     "end_time": "2018-03-11T10:56:19.084000Z",
     "start_time": "2018-03-11T10:56:18.984000Z"
    },
    "code_folding": [
     0,
     4,
     6,
     9,
     11,
     13,
     17
    ]
   },
   "outputs": [],
   "source": [
    "# --- Defining Hyperparameters for each classifier ------------------------------\n",
    "cs = 100 # cache_size\n",
    "\n",
    "# Declaring Hyperparameters for every type of classifier\n",
    "parSL = {'C': Real(1e-6, 1e+6, prior='log-uniform'),\n",
    "         'fit_intercept': Categorical([True, False])}\n",
    "parSX = {'gamma': Real(1e-6, 1e+6, prior='log-uniform'),\n",
    "         'C': Real(1e-6, 1e+6, prior='log-uniform'),\n",
    "         'shrinking': Categorical([True, False])}\n",
    "parLR = {'C': Real(1e-6, 1e+6, prior='log-uniform'),\n",
    "         'fit_intercept': Categorical([True, False])}\n",
    "parDT = {'min_weight_fraction_leaf': Categorical(np.arange(0.0, 0.505, 0.005)),\n",
    "         'max_depth': Integer(1, 10)}\n",
    "parGB = {'learning_rate': Categorical(np.arange(0.0, 1.0005, 0.0005)),\n",
    "         'n_estimators': Integer(1, 100),\n",
    "         'min_weight_fraction_leaf': Categorical(np.arange(0.0, 0.505, 0.005)),\n",
    "         'max_depth': Integer(1, 10)}\n",
    "parRA = {'random_state': Categorical([5482, 46, 77, 2017, 2018, 25, 4]),\n",
    "         'n_estimators': Integer(1, 100),\n",
    "         'min_weight_fraction_leaf': Categorical(np.arange(0.0, 0.505, 0.005)),\n",
    "         'max_depth': Integer(1, 10)}"
   ]
  },
  {
   "cell_type": "code",
   "execution_count": 14,
   "metadata": {
    "ExecuteTime": {
     "end_time": "2018-03-11T11:01:38.378000Z",
     "start_time": "2018-03-11T10:56:19.085000Z"
    },
    "cell_style": "center",
    "code_folding": [
     0
    ]
   },
   "outputs": [
    {
     "name": "stdout",
     "output_type": "stream",
     "text": [
      "   MODEL |  FP |  FN |  TP |  TN |  COST  |    ACC  |\n",
      "#####################################################\n",
      "SL_l1s_n |  20 |  64 | 104 |  62 |  -164  |  0.664  |\n",
      "SL_l2s_n |  20 |  63 | 105 |  62 |  -163  |  0.668  |\n",
      "SL_l2h_n |  18 |  64 | 104 |  64 |  -154  |  0.672  |\n",
      "SX_po2_n |  38 |  62 | 106 |  44 |  -252  |  0.600  |\n",
      "SX_po3_n |  36 |  33 | 135 |  46 |  -213  |  0.724  |\n",
      "SX_rbf_n |  25 |  52 | 116 |  57 |  -177  |  0.692  |\n",
      "SX_sig_n |  25 |  53 | 115 |  57 |  -178  |  0.688  |\n"
     ]
    },
    {
     "name": "stderr",
     "output_type": "stream",
     "text": [
      "C:\\Users\\Armin\\Anaconda2\\lib\\site-packages\\sklearn\\linear_model\\sag.py:332: ConvergenceWarning: The max_iter was reached which means the coef_ did not converge\n",
      "  \"the coef_ did not converge\", ConvergenceWarning)\n"
     ]
    },
    {
     "name": "stdout",
     "output_type": "stream",
     "text": [
      "LR_l1s_n |  19 |  62 | 106 |  63 |  -157  |  0.676  |\n"
     ]
    },
    {
     "name": "stderr",
     "output_type": "stream",
     "text": [
      "C:\\Users\\Armin\\Anaconda2\\lib\\site-packages\\sklearn\\linear_model\\logistic.py:1232: UserWarning: 'n_jobs' > 1 does not have any effect when 'solver' is set to 'liblinear'. Got 'n_jobs' = -1.\n",
      "  \" = {}.\".format(self.n_jobs))\n"
     ]
    },
    {
     "name": "stdout",
     "output_type": "stream",
     "text": [
      "LR_l1l_n |  20 |  61 | 107 |  62 |  -161  |  0.676  |\n",
      "LR_l2s_n |  20 |  61 | 107 |  62 |  -161  |  0.676  |\n",
      "LR_l2l_n |  20 |  61 | 107 |  62 |  -161  |  0.676  |\n",
      "LR_nwt_n |  20 |  61 | 107 |  62 |  -161  |  0.676  |\n",
      "LR_lbf_n |  20 |  61 | 107 |  62 |  -161  |  0.676  |\n",
      "LR_sag_n |  20 |  61 | 107 |  62 |  -161  |  0.676  |\n"
     ]
    }
   ],
   "source": [
    "# --- Normalized dataset: Balanced Class Weights and Tuning for minimal cost ----\n",
    "\n",
    "# Settings\n",
    "cw = 'balanced' # class_weight\n",
    "X = StandardScaler().fit_transform(df.values)\n",
    "BE_bal_n = pd.Series() # Best Estimators with class_weight = 'balanced'\n",
    "CM_bal_n = pd.DataFrame(columns=['FP','FN','TP','TN']) # Confusion matrix elements\n",
    "\n",
    "print '   MODEL |  FP |  FN |  TP |  TN |  COST  |    ACC  |'\n",
    "print '#####################################################'\n",
    "\n",
    "# Linear SVC\n",
    "SL_l1s = LinearSVC(class_weight=cw, random_state=2018, penalty='l1', dual=False)\n",
    "SL_l2s = LinearSVC(class_weight=cw, random_state=2018, penalty='l2', dual=False)\n",
    "SL_l2h = LinearSVC(class_weight=cw, random_state=2018, penalty='l2', loss='hinge')\n",
    "clfs = (SL_l1s, SL_l2s, SL_l2h)\n",
    "names = ('SL_l1s_n', 'SL_l2s_n', 'SL_l2h_n')\n",
    "for i, clf in enumerate(clfs):\n",
    "    model, matrix = RUN_HPS(X, y, clf, parSL, 20, names[i])\n",
    "    BE_bal_n = BE_bal_n.set_value(names[i], model)\n",
    "    CM_bal_n = CM_bal_n.append(matrix)\n",
    "\n",
    "# Non-linear SVCs\n",
    "SX_po2 = SVC(class_weight=cw, cache_size=cs, kernel='poly', degree=2)\n",
    "SX_po3 = SVC(class_weight=cw, cache_size=cs, kernel='poly', degree=3)\n",
    "SX_rbf = SVC(class_weight=cw, cache_size=cs, kernel='rbf')\n",
    "SX_sig = SVC(class_weight=cw, cache_size=cs, kernel='sigmoid')\n",
    "clfs = (SX_po2, SX_po3, SX_rbf, SX_sig)\n",
    "names = ('SX_po2_n', 'SX_po3_n', 'SX_rbf_n', 'SX_sig_n')\n",
    "for i, clf in enumerate(clfs):\n",
    "    model, matrix = RUN_HPS(X, y, clf, parSX, 20, names[i])\n",
    "    BE_bal_n = BE_bal_n.set_value(names[i], model)\n",
    "    CM_bal_n = CM_bal_n.append(matrix)\n",
    "\n",
    "# Logistic Regression\n",
    "LR_l1s = LRC(class_weight=cw, n_jobs=-1, penalty='l1', solver='saga')\n",
    "LR_l1l = LRC(class_weight=cw, n_jobs=-1, penalty='l1', solver='liblinear',\n",
    "             random_state=2018)\n",
    "LR_l2s = LRC(class_weight=cw, n_jobs=-1, penalty='l2', solver='saga')\n",
    "LR_l2l = LRC(class_weight=cw, n_jobs=-1, penalty='l2', solver='liblinear',\n",
    "             random_state=2018, dual=False)\n",
    "LR_nwt = LRC(class_weight=cw, n_jobs=-1, penalty='l2', solver='newton-cg')\n",
    "LR_lbf = LRC(class_weight=cw, n_jobs=-1, penalty='l2', solver='lbfgs')\n",
    "LR_sag = LRC(class_weight=cw, n_jobs=-1, penalty='l2', solver='sag',\n",
    "             random_state=2018)\n",
    "clfs = (LR_l1s, LR_l1l, LR_l2s, LR_l2l, LR_nwt, LR_lbf, LR_sag)\n",
    "names = ('LR_l1s_n', 'LR_l1l_n', 'LR_l2s_n', 'LR_l2l_n', \n",
    "         'LR_nwt_n', 'LR_lbf_n', 'LR_sag_n')\n",
    "for i, clf in enumerate(clfs):\n",
    "    model, matrix = RUN_HPS(X, y, clf, parLR, 20, names[i])\n",
    "    BE_bal_n = BE_bal_n.set_value(names[i], model)\n",
    "    CM_bal_n = CM_bal_n.append(matrix)"
   ]
  },
  {
   "cell_type": "code",
   "execution_count": 15,
   "metadata": {
    "ExecuteTime": {
     "end_time": "2018-03-11T11:06:37.990000Z",
     "start_time": "2018-03-11T11:01:38.380000Z"
    },
    "cell_style": "center",
    "code_folding": [
     0
    ]
   },
   "outputs": [
    {
     "name": "stdout",
     "output_type": "stream",
     "text": [
      "   MODEL |  FP |  FN |  TP |  TN |  COST  |    ACC  |\n",
      "#####################################################\n",
      "SL_l1s_n |  22 |  64 | 104 |  60 |  -174  |  0.656  |\n",
      "SL_l2s_n |  20 |  58 | 110 |  62 |  -158  |  0.688  |\n",
      "SL_l2h_n |  20 |  64 | 104 |  62 |  -164  |  0.664  |\n",
      "SX_po2_n |  42 |  44 | 124 |  40 |  -254  |  0.656  |\n",
      "SX_po3_n |  43 |  40 | 128 |  39 |  -255  |  0.668  |\n",
      "SX_rbf_n |  40 |  39 | 129 |  42 |  -239  |  0.684  |\n",
      "SX_sig_n |  43 |  17 | 151 |  39 |  -232  |  0.760  |\n",
      "LR_l1s_n |  19 |  60 | 108 |  63 |  -155  |  0.684  |\n",
      "LR_l1l_n |  22 |  66 | 102 |  60 |  -176  |  0.648  |\n",
      "LR_l2s_n |  20 |  58 | 110 |  62 |  -158  |  0.688  |\n",
      "LR_l2l_n |  20 |  58 | 110 |  62 |  -158  |  0.688  |\n",
      "LR_nwt_n |  20 |  58 | 110 |  62 |  -158  |  0.688  |\n",
      "LR_lbf_n |  20 |  58 | 110 |  62 |  -158  |  0.688  |\n",
      "LR_sag_n |  20 |  58 | 110 |  62 |  -158  |  0.688  |\n"
     ]
    }
   ],
   "source": [
    "# --- Normalized dataset: Imbalanced Class Weights and Tuning for minimal cost --\n",
    "\n",
    "# Settings\n",
    "cw = None # class_weight\n",
    "X = StandardScaler().fit_transform(df.values)\n",
    "BE_imb_n = pd.Series() # Best Estimators with class_weight = 'balanced'\n",
    "CM_imb_n = pd.DataFrame(columns=['FP','FN','TP','TN']) # Confusion matrix elements\n",
    "\n",
    "print '   MODEL |  FP |  FN |  TP |  TN |  COST  |    ACC  |'\n",
    "print '#####################################################'\n",
    "\n",
    "# Linear SVC\n",
    "SL_l1s = LinearSVC(class_weight=cw, random_state=2018, penalty='l1', dual=False)\n",
    "SL_l2s = LinearSVC(class_weight=cw, random_state=2018, penalty='l2', dual=False)\n",
    "SL_l2h = LinearSVC(class_weight=cw, random_state=2018, penalty='l2', loss='hinge')\n",
    "clfs = (SL_l1s, SL_l2s, SL_l2h)\n",
    "names = ('SL_l1s_n', 'SL_l2s_n', 'SL_l2h_n')\n",
    "for i, clf in enumerate(clfs):\n",
    "    model, matrix = RUN_HPS(X, y, clf, parSL, 20, names[i])\n",
    "    BE_imb_n = BE_imb_n.set_value(names[i], model)\n",
    "    CM_imb_n = CM_imb_n.append(matrix)\n",
    "\n",
    "# Non-linear SVCs\n",
    "SX_po2 = SVC(class_weight=cw, cache_size=cs, kernel='poly', degree=2)\n",
    "SX_po3 = SVC(class_weight=cw, cache_size=cs, kernel='poly', degree=3)\n",
    "SX_rbf = SVC(class_weight=cw, cache_size=cs, kernel='rbf')\n",
    "SX_sig = SVC(class_weight=cw, cache_size=cs, kernel='sigmoid')\n",
    "clfs = (SX_po2, SX_po3, SX_rbf, SX_sig)\n",
    "names = ('SX_po2_n', 'SX_po3_n', 'SX_rbf_n', 'SX_sig_n')\n",
    "for i, clf in enumerate(clfs):\n",
    "    model, matrix = RUN_HPS(X, y, clf, parSX, 20, names[i])\n",
    "    BE_imb_n = BE_imb_n.set_value(names[i], model)\n",
    "    CM_imb_n = CM_imb_n.append(matrix)\n",
    "\n",
    "# Logistic Regression\n",
    "LR_l1s = LRC(class_weight=cw, n_jobs=-1, penalty='l1', solver='saga')\n",
    "LR_l1l = LRC(class_weight=cw, n_jobs=-1, penalty='l1', solver='liblinear',\n",
    "             random_state=2018)\n",
    "LR_l2s = LRC(class_weight=cw, n_jobs=-1, penalty='l2', solver='saga')\n",
    "LR_l2l = LRC(class_weight=cw, n_jobs=-1, penalty='l2', solver='liblinear',\n",
    "             random_state=2018, dual=False)\n",
    "LR_nwt = LRC(class_weight=cw, n_jobs=-1, penalty='l2', solver='newton-cg')\n",
    "LR_lbf = LRC(class_weight=cw, n_jobs=-1, penalty='l2', solver='lbfgs')\n",
    "LR_sag = LRC(class_weight=cw, n_jobs=-1, penalty='l2', solver='sag',\n",
    "             random_state=2018)\n",
    "clfs = (LR_l1s, LR_l1l, LR_l2s, LR_l2l, LR_nwt, LR_lbf, LR_sag)\n",
    "names = ('LR_l1s_n', 'LR_l1l_n', 'LR_l2s_n', 'LR_l2l_n', \n",
    "         'LR_nwt_n', 'LR_lbf_n', 'LR_sag_n')\n",
    "for i, clf in enumerate(clfs):\n",
    "    model, matrix = RUN_HPS(X, y, clf, parLR, 20, names[i])\n",
    "    BE_imb_n = BE_imb_n.set_value(names[i], model)\n",
    "    CM_imb_n = CM_imb_n.append(matrix)"
   ]
  },
  {
   "cell_type": "code",
   "execution_count": 16,
   "metadata": {
    "ExecuteTime": {
     "end_time": "2018-03-11T11:10:43.664000Z",
     "start_time": "2018-03-11T11:06:37.992000Z"
    },
    "cell_style": "center",
    "code_folding": [
     0
    ]
   },
   "outputs": [
    {
     "name": "stdout",
     "output_type": "stream",
     "text": [
      "   MODEL |  FP |  FN |  TP |  TN |  COST  |    ACC  |\n",
      "#####################################################\n",
      "SL_l1s_n |  21 |  61 | 107 |  61 |  -166  |  0.672  |\n",
      "SL_l2s_n |  22 |  57 | 111 |  60 |  -167  |  0.684  |\n",
      "SL_l2h_n |  26 |  53 | 115 |  56 |  -183  |  0.684  |\n",
      "SX_po2_n |  39 |  51 | 117 |  43 |  -246  |  0.640  |\n",
      "SX_po3_n |  39 |  35 | 133 |  43 |  -230  |  0.704  |\n",
      "SX_rbf_n |  26 |  53 | 115 |  56 |  -183  |  0.684  |\n",
      "SX_sig_n |  25 |  54 | 114 |  57 |  -179  |  0.684  |\n",
      "LR_l1s_n |  27 |  47 | 121 |  55 |  -182  |  0.704  |\n",
      "LR_l1l_n |  26 |  48 | 120 |  56 |  -178  |  0.704  |\n",
      "LR_l2s_n |  26 |  44 | 124 |  56 |  -174  |  0.720  |\n",
      "LR_l2l_n |  21 |  57 | 111 |  61 |  -162  |  0.688  |\n",
      "LR_nwt_n |  26 |  45 | 123 |  56 |  -175  |  0.716  |\n",
      "LR_lbf_n |  26 |  45 | 123 |  56 |  -175  |  0.716  |\n",
      "LR_sag_n |  26 |  44 | 124 |  56 |  -174  |  0.720  |\n"
     ]
    }
   ],
   "source": [
    "# --- Normalized dataset: Balanced Class Weights and Tuning for roc_auc score ---\n",
    "\n",
    "# Settings\n",
    "cw = 'balanced' # class_weight\n",
    "X = StandardScaler().fit_transform(df.values)\n",
    "BE_bal_n_roc = pd.Series() # Best Estimators with class_weight = 'balanced'\n",
    "CM_bal_n_roc = pd.DataFrame(columns=['FP','FN','TP','TN']) # Confusion matrix elements\n",
    "\n",
    "print '   MODEL |  FP |  FN |  TP |  TN |  COST  |    ACC  |'\n",
    "print '#####################################################'\n",
    "\n",
    "# Linear SVC\n",
    "SL_l1s = LinearSVC(class_weight=cw, random_state=2018, penalty='l1', dual=False)\n",
    "SL_l2s = LinearSVC(class_weight=cw, random_state=2018, penalty='l2', dual=False)\n",
    "SL_l2h = LinearSVC(class_weight=cw, random_state=2018, penalty='l2', loss='hinge')\n",
    "clfs = (SL_l1s, SL_l2s, SL_l2h)\n",
    "names = ('SL_l1s_n', 'SL_l2s_n', 'SL_l2h_n')\n",
    "for i, clf in enumerate(clfs):\n",
    "    model, matrix = RUN_HPS(X, y, clf, parSL, 20, names[i], mode='roc_auc')\n",
    "    BE_bal_n_roc = BE_bal_n_roc.set_value(names[i], model)\n",
    "    CM_bal_n_roc = CM_bal_n_roc.append(matrix)\n",
    "\n",
    "# Non-linear SVCs\n",
    "SX_po2 = SVC(class_weight=cw, cache_size=cs, kernel='poly', degree=2)\n",
    "SX_po3 = SVC(class_weight=cw, cache_size=cs, kernel='poly', degree=3)\n",
    "SX_rbf = SVC(class_weight=cw, cache_size=cs, kernel='rbf')\n",
    "SX_sig = SVC(class_weight=cw, cache_size=cs, kernel='sigmoid')\n",
    "\n",
    "clfs = (SX_po2, SX_po3, SX_rbf, SX_sig)\n",
    "names = ('SX_po2_n', 'SX_po3_n', 'SX_rbf_n', 'SX_sig_n')\n",
    "\n",
    "for i, clf in enumerate(clfs):\n",
    "    model, matrix = RUN_HPS(X, y, clf, parSX, 20, names[i], mode='roc_auc')\n",
    "    BE_bal_n_roc = BE_bal_n_roc.set_value(names[i], model)\n",
    "    CM_bal_n_roc = CM_bal_n_roc.append(matrix)\n",
    "\n",
    "# Logistic Regression\n",
    "LR_l1s = LRC(class_weight=cw, n_jobs=-1, penalty='l1', solver='saga')\n",
    "LR_l1l = LRC(class_weight=cw, n_jobs=-1, penalty='l1', solver='liblinear',\n",
    "             random_state=2018)\n",
    "LR_l2s = LRC(class_weight=cw, n_jobs=-1, penalty='l2', solver='saga')\n",
    "LR_l2l = LRC(class_weight=cw, n_jobs=-1, penalty='l2', solver='liblinear',\n",
    "             random_state=2018, dual=False)\n",
    "LR_nwt = LRC(class_weight=cw, n_jobs=-1, penalty='l2', solver='newton-cg')\n",
    "LR_lbf = LRC(class_weight=cw, n_jobs=-1, penalty='l2', solver='lbfgs')\n",
    "LR_sag = LRC(class_weight=cw, n_jobs=-1, penalty='l2', solver='sag',\n",
    "             random_state=2018)\n",
    "clfs = (LR_l1s, LR_l1l, LR_l2s, LR_l2l, LR_nwt, LR_lbf, LR_sag)\n",
    "names = ('LR_l1s_n', 'LR_l1l_n', 'LR_l2s_n', 'LR_l2l_n', \n",
    "         'LR_nwt_n', 'LR_lbf_n', 'LR_sag_n')\n",
    "for i, clf in enumerate(clfs):\n",
    "    model, matrix = RUN_HPS(X, y, clf, parLR, 20, names[i], mode='roc_auc')\n",
    "    BE_bal_n_roc = BE_bal_n_roc.set_value(names[i], model)\n",
    "    CM_bal_n_roc = CM_bal_n_roc.append(matrix)"
   ]
  },
  {
   "cell_type": "code",
   "execution_count": 17,
   "metadata": {
    "ExecuteTime": {
     "end_time": "2018-03-11T11:14:54.460000Z",
     "start_time": "2018-03-11T11:10:43.666000Z"
    },
    "cell_style": "center",
    "code_folding": [
     0
    ]
   },
   "outputs": [
    {
     "name": "stdout",
     "output_type": "stream",
     "text": [
      "   MODEL |  FP |  FN |  TP |  TN |  COST  |    ACC  |\n",
      "#####################################################\n",
      "SL_l1s_n |  41 |  20 | 148 |  41 |  -225  |  0.756  |\n",
      "SL_l2s_n |  38 |  22 | 146 |  44 |  -212  |  0.760  |\n",
      "SL_l2h_n |  20 |  65 | 103 |  62 |  -165  |  0.660  |\n",
      "SX_po2_n |  54 |  16 | 152 |  28 |  -286  |  0.720  |\n",
      "SX_po3_n |  46 |  24 | 144 |  36 |  -254  |  0.720  |\n",
      "SX_rbf_n |  78 |   1 | 167 |   4 |  -391  |  0.684  |\n",
      "SX_sig_n |  82 |   0 | 168 |   0 |  -410  |  0.672  |\n",
      "LR_l1s_n |  45 |  20 | 148 |  37 |  -245  |  0.740  |\n",
      "LR_l1l_n |  43 |  22 | 146 |  39 |  -237  |  0.740  |\n",
      "LR_l2s_n |  43 |  19 | 149 |  39 |  -234  |  0.752  |\n",
      "LR_l2l_n |  39 |  23 | 145 |  43 |  -218  |  0.752  |\n",
      "LR_nwt_n |  49 |  16 | 152 |  33 |  -261  |  0.740  |\n",
      "LR_lbf_n |  49 |  17 | 151 |  33 |  -262  |  0.736  |\n",
      "LR_sag_n |  48 |  18 | 150 |  34 |  -258  |  0.736  |\n"
     ]
    }
   ],
   "source": [
    "# --- Normalized dataset: Imbalanced Class Weights and Tuning for roc_auc score -\n",
    "\n",
    "# Settings\n",
    "cw = None # class_weight\n",
    "X = StandardScaler().fit_transform(df.values)\n",
    "BE_imb_n_roc = pd.Series() # Best Estimators with class_weight = 'balanced'\n",
    "CM_imb_n_roc = pd.DataFrame(columns=['FP','FN','TP','TN']) # Confusion matrix elements\n",
    "\n",
    "print '   MODEL |  FP |  FN |  TP |  TN |  COST  |    ACC  |'\n",
    "print '#####################################################'\n",
    "\n",
    "# Linear SVC\n",
    "SL_l1s = LinearSVC(class_weight=cw, random_state=2018, penalty='l1', dual=False)\n",
    "SL_l2s = LinearSVC(class_weight=cw, random_state=2018, penalty='l2', dual=False)\n",
    "SL_l2h = LinearSVC(class_weight=cw, random_state=2018, penalty='l2', loss='hinge')\n",
    "clfs = (SL_l1s, SL_l2s, SL_l2h)\n",
    "names = ('SL_l1s_n', 'SL_l2s_n', 'SL_l2h_n')\n",
    "for i, clf in enumerate(clfs):\n",
    "    model, matrix = RUN_HPS(X, y, clf, parSL, 20, names[i], mode='roc_auc')\n",
    "    BE_imb_n_roc = BE_imb_n_roc.set_value(names[i], model)\n",
    "    CM_imb_n_roc = CM_imb_n_roc.append(matrix)\n",
    "\n",
    "# Non-linear SVCs\n",
    "SX_po2 = SVC(class_weight=cw, cache_size=cs, kernel='poly', degree=2)\n",
    "SX_po3 = SVC(class_weight=cw, cache_size=cs, kernel='poly', degree=3)\n",
    "SX_rbf = SVC(class_weight=cw, cache_size=cs, kernel='rbf')\n",
    "SX_sig = SVC(class_weight=cw, cache_size=cs, kernel='sigmoid')\n",
    "clfs = (SX_po2, SX_po3, SX_rbf, SX_sig)\n",
    "names = ('SX_po2_n', 'SX_po3_n', 'SX_rbf_n', 'SX_sig_n')\n",
    "for i, clf in enumerate(clfs):\n",
    "    model, matrix = RUN_HPS(X, y, clf, parSX, 20, names[i], mode='roc_auc')\n",
    "    BE_imb_n_roc = BE_imb_n_roc.set_value(names[i], model)\n",
    "    CM_imb_n_roc = CM_imb_n_roc.append(matrix)\n",
    "\n",
    "# Logistic Regression\n",
    "LR_l1s = LRC(class_weight=cw, n_jobs=-1, penalty='l1', solver='saga')\n",
    "LR_l1l = LRC(class_weight=cw, n_jobs=-1, penalty='l1', solver='liblinear',\n",
    "             random_state=2018)\n",
    "LR_l2s = LRC(class_weight=cw, n_jobs=-1, penalty='l2', solver='saga')\n",
    "LR_l2l = LRC(class_weight=cw, n_jobs=-1, penalty='l2', solver='liblinear',\n",
    "             random_state=2018, dual=False)\n",
    "LR_nwt = LRC(class_weight=cw, n_jobs=-1, penalty='l2', solver='newton-cg')\n",
    "LR_lbf = LRC(class_weight=cw, n_jobs=-1, penalty='l2', solver='lbfgs')\n",
    "LR_sag = LRC(class_weight=cw, n_jobs=-1, penalty='l2', solver='sag',\n",
    "             random_state=2018)\n",
    "clfs = (LR_l1s, LR_l1l, LR_l2s, LR_l2l, LR_nwt, LR_lbf, LR_sag)\n",
    "names = ('LR_l1s_n', 'LR_l1l_n', 'LR_l2s_n', 'LR_l2l_n', \n",
    "         'LR_nwt_n', 'LR_lbf_n', 'LR_sag_n')\n",
    "for i, clf in enumerate(clfs):\n",
    "    model, matrix = RUN_HPS(X, y, clf, parLR, 20, names[i], mode='roc_auc')\n",
    "    BE_imb_n_roc = BE_imb_n_roc.set_value(names[i], model)\n",
    "    CM_imb_n_roc = CM_imb_n_roc.append(matrix)"
   ]
  },
  {
   "cell_type": "code",
   "execution_count": 18,
   "metadata": {
    "ExecuteTime": {
     "end_time": "2018-03-11T11:20:18.561000Z",
     "start_time": "2018-03-11T11:14:54.462000Z"
    },
    "cell_style": "center",
    "code_folding": [
     0
    ]
   },
   "outputs": [
    {
     "name": "stdout",
     "output_type": "stream",
     "text": [
      "   MODEL |  FP |  FN |  TP |  TN |  COST  |    ACC  |\n",
      "#####################################################\n",
      "SL_l1s_m |  25 |  48 | 120 |  57 |  -173  |  0.708  |\n",
      "SL_l2s_m |  26 |  53 | 115 |  56 |  -183  |  0.684  |\n",
      "SL_l2h_m |  28 |  53 | 115 |  54 |  -193  |  0.676  |\n",
      "SX_po2_m |  19 |  72 |  96 |  63 |  -167  |  0.636  |\n",
      "SX_po3_m |  19 |  73 |  95 |  63 |  -168  |  0.632  |\n",
      "SX_rbf_m |  23 |  52 | 116 |  59 |  -167  |  0.700  |\n",
      "SX_sig_m |  26 |  51 | 117 |  56 |  -181  |  0.692  |\n",
      "LR_l1s_m |  27 |  47 | 121 |  55 |  -182  |  0.704  |\n",
      "LR_l1l_m |  26 |  48 | 120 |  56 |  -178  |  0.704  |\n",
      "LR_l2s_m |  27 |  51 | 117 |  55 |  -186  |  0.688  |\n",
      "LR_l2l_m |  27 |  51 | 117 |  55 |  -186  |  0.688  |\n",
      "LR_nwt_m |  26 |  51 | 117 |  56 |  -181  |  0.692  |\n",
      "LR_lbf_m |  26 |  51 | 117 |  56 |  -181  |  0.692  |\n",
      "LR_sag_m |  27 |  51 | 117 |  55 |  -186  |  0.688  |\n"
     ]
    }
   ],
   "source": [
    "# --- MinMax dataset: Balanced Class Weights and Tuning for minimal cost --------\n",
    "\n",
    "# Settings\n",
    "cw = 'balanced' # class_weight\n",
    "X = MinMaxScaler().fit_transform(df.values)\n",
    "BE_bal_m = pd.Series() # Best Estimators with class_weight = 'balanced'\n",
    "CM_bal_m = pd.DataFrame(columns=['FP','FN','TP','TN']) # Confusion matrix elements\n",
    "\n",
    "print '   MODEL |  FP |  FN |  TP |  TN |  COST  |    ACC  |'\n",
    "print '#####################################################'\n",
    "\n",
    "# Linear SVC\n",
    "SL_l1s = LinearSVC(class_weight=cw, random_state=2018, penalty='l1', dual=False)\n",
    "SL_l2s = LinearSVC(class_weight=cw, random_state=2018, penalty='l2', dual=False)\n",
    "SL_l2h = LinearSVC(class_weight=cw, random_state=2018, penalty='l2', loss='hinge')\n",
    "clfs = (SL_l1s, SL_l2s, SL_l2h)\n",
    "names = ('SL_l1s_m', 'SL_l2s_m', 'SL_l2h_m')\n",
    "for i, clf in enumerate(clfs):\n",
    "    model, matrix = RUN_HPS(X, y, clf, parSL, 20, names[i])\n",
    "    BE_bal_m = BE_bal_m.set_value(names[i], model)\n",
    "    CM_bal_m = CM_bal_m.append(matrix)\n",
    "\n",
    "# Non-linear SVCs\n",
    "SX_po2 = SVC(class_weight=cw, cache_size=cs, kernel='poly', degree=2)\n",
    "SX_po3 = SVC(class_weight=cw, cache_size=cs, kernel='poly', degree=3)\n",
    "SX_rbf = SVC(class_weight=cw, cache_size=cs, kernel='rbf')\n",
    "SX_sig = SVC(class_weight=cw, cache_size=cs, kernel='sigmoid')\n",
    "clfs = (SX_po2, SX_po3, SX_rbf, SX_sig)\n",
    "names = ('SX_po2_m', 'SX_po3_m', 'SX_rbf_m', 'SX_sig_m')\n",
    "for i, clf in enumerate(clfs):\n",
    "    model, matrix = RUN_HPS(X, y, clf, parSX, 20, names[i])\n",
    "    BE_bal_m = BE_bal_m.set_value(names[i], model)\n",
    "    CM_bal_m = CM_bal_m.append(matrix)\n",
    "    \n",
    "# Logistic Regression\n",
    "LR_l1s = LRC(class_weight=cw, n_jobs=-1, penalty='l1', solver='saga')\n",
    "LR_l1l = LRC(class_weight=cw, n_jobs=-1, penalty='l1', solver='liblinear',\n",
    "             random_state=2018)\n",
    "LR_l2s = LRC(class_weight=cw, n_jobs=-1, penalty='l2', solver='saga')\n",
    "LR_l2l = LRC(class_weight=cw, n_jobs=-1, penalty='l2', solver='liblinear',\n",
    "             random_state=2018, dual=False)\n",
    "LR_nwt = LRC(class_weight=cw, n_jobs=-1, penalty='l2', solver='newton-cg')\n",
    "LR_lbf = LRC(class_weight=cw, n_jobs=-1, penalty='l2', solver='lbfgs')\n",
    "LR_sag = LRC(class_weight=cw, n_jobs=-1, penalty='l2', solver='sag',\n",
    "             random_state=2018)\n",
    "clfs = (LR_l1s, LR_l1l, LR_l2s, LR_l2l, LR_nwt, LR_lbf, LR_sag)\n",
    "names = ('LR_l1s_m', 'LR_l1l_m', 'LR_l2s_m', 'LR_l2l_m', \n",
    "         'LR_nwt_m', 'LR_lbf_m', 'LR_sag_m')\n",
    "for i, clf in enumerate(clfs):\n",
    "    model, matrix = RUN_HPS(X, y, clf, parLR, 20, names[i])\n",
    "    BE_bal_m = BE_bal_m.set_value(names[i], model)\n",
    "    CM_bal_m = CM_bal_m.append(matrix)"
   ]
  },
  {
   "cell_type": "code",
   "execution_count": 19,
   "metadata": {
    "ExecuteTime": {
     "end_time": "2018-03-11T11:25:38.623000Z",
     "start_time": "2018-03-11T11:20:18.562000Z"
    },
    "cell_style": "center",
    "code_folding": [
     0
    ]
   },
   "outputs": [
    {
     "name": "stdout",
     "output_type": "stream",
     "text": [
      "   MODEL |  FP |  FN |  TP |  TN |  COST  |    ACC  |\n",
      "#####################################################\n",
      "SL_l1s_m |   0 | 168 |   0 |  82 |  -168  |  0.328  |\n",
      "SL_l2s_m |  39 |  23 | 145 |  43 |  -218  |  0.752  |\n",
      "SL_l2h_m |  40 |  25 | 143 |  42 |  -225  |  0.740  |\n",
      "SX_po2_m |  33 |  34 | 134 |  49 |  -199  |  0.732  |\n",
      "SX_po3_m |  38 |  29 | 139 |  44 |  -219  |  0.732  |\n",
      "SX_rbf_m |  42 |  27 | 141 |  40 |  -237  |  0.724  |\n",
      "SX_sig_m |  37 |  26 | 142 |  45 |  -211  |  0.748  |\n",
      "LR_l1s_m |   0 | 168 |   0 |  82 |  -168  |  0.328  |\n",
      "LR_l1l_m |   0 | 168 |   0 |  82 |  -168  |  0.328  |\n",
      "LR_l2s_m |  41 |  24 | 144 |  41 |  -229  |  0.740  |\n",
      "LR_l2l_m |  41 |  24 | 144 |  41 |  -229  |  0.740  |\n",
      "LR_nwt_m |  41 |  24 | 144 |  41 |  -229  |  0.740  |\n",
      "LR_lbf_m |  38 |  24 | 144 |  44 |  -214  |  0.752  |\n",
      "LR_sag_m |  38 |  24 | 144 |  44 |  -214  |  0.752  |\n"
     ]
    }
   ],
   "source": [
    "# --- MinMax dataset: Imbalanced Class Weights and Tuning for minimal cost ------\n",
    "\n",
    "# Settings\n",
    "cw = None # class_weight\n",
    "X = MinMaxScaler().fit_transform(df.values)\n",
    "BE_imb_m = pd.Series() # Best Estimators with class_weight = 'balanced'\n",
    "CM_imb_m = pd.DataFrame(columns=['FP','FN','TP','TN']) # Confusion matrix elements\n",
    "\n",
    "print '   MODEL |  FP |  FN |  TP |  TN |  COST  |    ACC  |'\n",
    "print '#####################################################'\n",
    "\n",
    "# Linear SVC\n",
    "SL_l1s = LinearSVC(class_weight=cw, random_state=2018, penalty='l1', dual=False)\n",
    "SL_l2s = LinearSVC(class_weight=cw, random_state=2018, penalty='l2', dual=False)\n",
    "SL_l2h = LinearSVC(class_weight=cw, random_state=2018, penalty='l2', loss='hinge')\n",
    "clfs = (SL_l1s, SL_l2s, SL_l2h)\n",
    "names = ('SL_l1s_m', 'SL_l2s_m', 'SL_l2h_m')\n",
    "for i, clf in enumerate(clfs):\n",
    "    model, matrix = RUN_HPS(X, y, clf, parSL, 20, names[i])\n",
    "    BE_imb_m = BE_imb_m.set_value(names[i], model)\n",
    "    CM_imb_m = CM_imb_m.append(matrix)\n",
    "\n",
    "# Non-linear SVCs\n",
    "SX_po2 = SVC(class_weight=cw, cache_size=cs, kernel='poly', degree=2)\n",
    "SX_po3 = SVC(class_weight=cw, cache_size=cs, kernel='poly', degree=3)\n",
    "SX_rbf = SVC(class_weight=cw, cache_size=cs, kernel='rbf')\n",
    "SX_sig = SVC(class_weight=cw, cache_size=cs, kernel='sigmoid')\n",
    "clfs = (SX_po2, SX_po3, SX_rbf, SX_sig)\n",
    "names = ('SX_po2_m', 'SX_po3_m', 'SX_rbf_m', 'SX_sig_m')\n",
    "for i, clf in enumerate(clfs):\n",
    "    model, matrix = RUN_HPS(X, y, clf, parSX, 20, names[i])\n",
    "    BE_imb_m = BE_imb_m.set_value(names[i], model)\n",
    "    CM_imb_m = CM_imb_m.append(matrix)\n",
    "    \n",
    "# Logistic Regression\n",
    "LR_l1s = LRC(class_weight=cw, n_jobs=-1, penalty='l1', solver='saga')\n",
    "LR_l1l = LRC(class_weight=cw, n_jobs=-1, penalty='l1', solver='liblinear',\n",
    "             random_state=2018)\n",
    "LR_l2s = LRC(class_weight=cw, n_jobs=-1, penalty='l2', solver='saga')\n",
    "LR_l2l = LRC(class_weight=cw, n_jobs=-1, penalty='l2', solver='liblinear',\n",
    "             random_state=2018, dual=False)\n",
    "LR_nwt = LRC(class_weight=cw, n_jobs=-1, penalty='l2', solver='newton-cg')\n",
    "LR_lbf = LRC(class_weight=cw, n_jobs=-1, penalty='l2', solver='lbfgs')\n",
    "LR_sag = LRC(class_weight=cw, n_jobs=-1, penalty='l2', solver='sag',\n",
    "             random_state=2018)\n",
    "clfs = (LR_l1s, LR_l1l, LR_l2s, LR_l2l, LR_nwt, LR_lbf, LR_sag)\n",
    "names = ('LR_l1s_m', 'LR_l1l_m', 'LR_l2s_m', 'LR_l2l_m', \n",
    "         'LR_nwt_m', 'LR_lbf_m', 'LR_sag_m')\n",
    "for i, clf in enumerate(clfs):\n",
    "    model, matrix = RUN_HPS(X, y, clf, parLR, 20, names[i])\n",
    "    BE_imb_m = BE_imb_m.set_value(names[i], model)\n",
    "    CM_imb_m = CM_imb_m.append(matrix)"
   ]
  },
  {
   "cell_type": "code",
   "execution_count": 20,
   "metadata": {
    "ExecuteTime": {
     "end_time": "2018-03-11T11:29:54.537000Z",
     "start_time": "2018-03-11T11:25:38.625000Z"
    },
    "cell_style": "center",
    "code_folding": [
     0
    ]
   },
   "outputs": [
    {
     "name": "stdout",
     "output_type": "stream",
     "text": [
      "   MODEL |  FP |  FN |  TP |  TN |  COST  |    ACC  |\n",
      "#####################################################\n",
      "SL_l1s_m |  25 |  49 | 119 |  57 |  -174  |  0.704  |\n",
      "SL_l2s_m |  26 |  50 | 118 |  56 |  -180  |  0.696  |\n",
      "SL_l2h_m |  27 |  52 | 116 |  55 |  -187  |  0.684  |\n",
      "SX_po2_m |  21 |  57 | 111 |  61 |  -162  |  0.688  |\n",
      "SX_po3_m |  19 |  72 |  96 |  63 |  -167  |  0.636  |\n",
      "SX_rbf_m |  23 |  52 | 116 |  59 |  -167  |  0.700  |\n",
      "SX_sig_m |  27 |  54 | 114 |  55 |  -189  |  0.676  |\n",
      "LR_l1s_m |  26 |  48 | 120 |  56 |  -178  |  0.704  |\n",
      "LR_l1l_m |  27 |  46 | 122 |  55 |  -181  |  0.708  |\n",
      "LR_l2s_m |  26 |  51 | 117 |  56 |  -181  |  0.692  |\n",
      "LR_l2l_m |  27 |  51 | 117 |  55 |  -186  |  0.688  |\n",
      "LR_nwt_m |  26 |  51 | 117 |  56 |  -181  |  0.692  |\n",
      "LR_lbf_m |  26 |  51 | 117 |  56 |  -181  |  0.692  |\n",
      "LR_sag_m |  26 |  51 | 117 |  56 |  -181  |  0.692  |\n"
     ]
    }
   ],
   "source": [
    "# --- MinMax dataset: Balanced Class Weights and Tuning for roc_auc score -------\n",
    "\n",
    "# Settings\n",
    "cw = 'balanced' # class_weight\n",
    "X = MinMaxScaler().fit_transform(df.values)\n",
    "BE_bal_m_roc = pd.Series() # Best Estimators with class_weight = 'balanced'\n",
    "CM_bal_m_roc = pd.DataFrame(columns=['FP','FN','TP','TN']) # Confusion matrix elements\n",
    "\n",
    "print '   MODEL |  FP |  FN |  TP |  TN |  COST  |    ACC  |'\n",
    "print '#####################################################'\n",
    "\n",
    "# Linear SVC\n",
    "SL_l1s = LinearSVC(class_weight=cw, random_state=2018, penalty='l1', dual=False)\n",
    "SL_l2s = LinearSVC(class_weight=cw, random_state=2018, penalty='l2', dual=False)\n",
    "SL_l2h = LinearSVC(class_weight=cw, random_state=2018, penalty='l2', loss='hinge')\n",
    "clfs = (SL_l1s, SL_l2s, SL_l2h)\n",
    "names = ('SL_l1s_m', 'SL_l2s_m', 'SL_l2h_m')\n",
    "for i, clf in enumerate(clfs):\n",
    "    model, matrix = RUN_HPS(X, y, clf, parSL, 20, names[i], mode='roc_auc')\n",
    "    BE_bal_m_roc = BE_bal_m_roc.set_value(names[i], model)\n",
    "    CM_bal_m_roc = CM_bal_m_roc.append(matrix)\n",
    "\n",
    "# Non-linear SVCs\n",
    "SX_po2 = SVC(class_weight=cw, cache_size=cs, kernel='poly', degree=2)\n",
    "SX_po3 = SVC(class_weight=cw, cache_size=cs, kernel='poly', degree=3)\n",
    "SX_rbf = SVC(class_weight=cw, cache_size=cs, kernel='rbf')\n",
    "SX_sig = SVC(class_weight=cw, cache_size=cs, kernel='sigmoid')\n",
    "clfs = (SX_po2, SX_po3, SX_rbf, SX_sig)\n",
    "names = ('SX_po2_m', 'SX_po3_m', 'SX_rbf_m', 'SX_sig_m')\n",
    "for i, clf in enumerate(clfs):\n",
    "    model, matrix = RUN_HPS(X, y, clf, parSX, 20, names[i], mode='roc_auc')\n",
    "    BE_bal_m_roc = BE_bal_m_roc.set_value(names[i], model)\n",
    "    CM_bal_m_roc = CM_bal_m_roc.append(matrix)\n",
    "\n",
    "# Logistic Regression\n",
    "LR_l1s = LRC(class_weight=cw, n_jobs=-1, penalty='l1', solver='saga')\n",
    "LR_l1l = LRC(class_weight=cw, n_jobs=-1, penalty='l1', solver='liblinear',\n",
    "             random_state=2018)\n",
    "LR_l2s = LRC(class_weight=cw, n_jobs=-1, penalty='l2', solver='saga')\n",
    "LR_l2l = LRC(class_weight=cw, n_jobs=-1, penalty='l2', solver='liblinear',\n",
    "             random_state=2018, dual=False)\n",
    "LR_nwt = LRC(class_weight=cw, n_jobs=-1, penalty='l2', solver='newton-cg')\n",
    "LR_lbf = LRC(class_weight=cw, n_jobs=-1, penalty='l2', solver='lbfgs')\n",
    "LR_sag = LRC(class_weight=cw, n_jobs=-1, penalty='l2', solver='sag',\n",
    "             random_state=2018)\n",
    "clfs = (LR_l1s, LR_l1l, LR_l2s, LR_l2l, LR_nwt, LR_lbf, LR_sag)\n",
    "names = ('LR_l1s_m', 'LR_l1l_m', 'LR_l2s_m', 'LR_l2l_m', \n",
    "         'LR_nwt_m', 'LR_lbf_m', 'LR_sag_m')\n",
    "for i, clf in enumerate(clfs):\n",
    "    model, matrix = RUN_HPS(X, y, clf, parLR, 20, names[i], mode='roc_auc')\n",
    "    BE_bal_m_roc = BE_bal_m_roc.set_value(names[i], model)\n",
    "    CM_bal_m_roc = CM_bal_m_roc.append(matrix)"
   ]
  },
  {
   "cell_type": "code",
   "execution_count": 21,
   "metadata": {
    "ExecuteTime": {
     "end_time": "2018-03-11T11:34:23.093000Z",
     "start_time": "2018-03-11T11:29:54.539000Z"
    },
    "cell_style": "center",
    "code_folding": [
     0
    ]
   },
   "outputs": [
    {
     "name": "stdout",
     "output_type": "stream",
     "text": [
      "   MODEL |  FP |  FN |  TP |  TN |  COST  |    ACC  |\n",
      "#####################################################\n",
      "SL_l1s_m |  40 |  22 | 146 |  42 |  -222  |  0.752  |\n",
      "SL_l2s_m |  41 |  22 | 146 |  41 |  -227  |  0.748  |\n",
      "SL_l2h_m |  35 |  28 | 140 |  47 |  -203  |  0.748  |\n",
      "SX_po2_m |  48 |  25 | 143 |  34 |  -265  |  0.708  |\n",
      "SX_po3_m |  54 |  21 | 147 |  28 |  -291  |  0.700  |\n",
      "SX_rbf_m |  40 |  27 | 141 |  42 |  -227  |  0.732  |\n",
      "SX_sig_m |  82 |   0 | 168 |   0 |  -410  |  0.672  |\n",
      "LR_l1s_m |  39 |  22 | 146 |  43 |  -217  |  0.756  |\n",
      "LR_l1l_m |  39 |  22 | 146 |  43 |  -217  |  0.756  |\n",
      "LR_l2s_m |  42 |  18 | 150 |  40 |  -228  |  0.760  |\n",
      "LR_l2l_m |  42 |  18 | 150 |  40 |  -228  |  0.760  |\n",
      "LR_nwt_m |  42 |  18 | 150 |  40 |  -228  |  0.760  |\n",
      "LR_lbf_m |  42 |  18 | 150 |  40 |  -228  |  0.760  |\n",
      "LR_sag_m |  42 |  18 | 150 |  40 |  -228  |  0.760  |\n"
     ]
    }
   ],
   "source": [
    "# --- MinMax dataset: Imbalanced Class Weights and Tuning for roc_auc score -----\n",
    "\n",
    "# Settings\n",
    "cw = None # class_weight\n",
    "X = MinMaxScaler().fit_transform(df.values)\n",
    "BE_imb_m_roc = pd.Series() # Best Estimators with class_weight = 'balanced'\n",
    "CM_imb_m_roc = pd.DataFrame(columns=['FP','FN','TP','TN']) # Confusion matrix elements\n",
    "\n",
    "print '   MODEL |  FP |  FN |  TP |  TN |  COST  |    ACC  |'\n",
    "print '#####################################################'\n",
    "\n",
    "# Linear SVC\n",
    "SL_l1s = LinearSVC(class_weight=cw, random_state=2018, penalty='l1', dual=False)\n",
    "SL_l2s = LinearSVC(class_weight=cw, random_state=2018, penalty='l2', dual=False)\n",
    "SL_l2h = LinearSVC(class_weight=cw, random_state=2018, penalty='l2', loss='hinge')\n",
    "clfs = (SL_l1s, SL_l2s, SL_l2h)\n",
    "names = ('SL_l1s_m', 'SL_l2s_m', 'SL_l2h_m')\n",
    "for i, clf in enumerate(clfs):\n",
    "    model, matrix = RUN_HPS(X, y, clf, parSL, 20, names[i], mode='roc_auc')\n",
    "    BE_imb_m_roc = BE_imb_m_roc.set_value(names[i], model)\n",
    "    CM_imb_m_roc = CM_imb_m_roc.append(matrix)\n",
    "\n",
    "# Non-linear SVCs\n",
    "SX_po2 = SVC(class_weight=cw, cache_size=cs, kernel='poly', degree=2)\n",
    "SX_po3 = SVC(class_weight=cw, cache_size=cs, kernel='poly', degree=3)\n",
    "SX_rbf = SVC(class_weight=cw, cache_size=cs, kernel='rbf')\n",
    "SX_sig = SVC(class_weight=cw, cache_size=cs, kernel='sigmoid')\n",
    "clfs = (SX_po2, SX_po3, SX_rbf, SX_sig)\n",
    "names = ('SX_po2_m', 'SX_po3_m', 'SX_rbf_m', 'SX_sig_m')\n",
    "for i, clf in enumerate(clfs):\n",
    "    model, matrix = RUN_HPS(X, y, clf, parSX, 20, names[i], mode='roc_auc')\n",
    "    BE_imb_m_roc = BE_imb_m_roc.set_value(names[i], model)\n",
    "    CM_imb_m_roc = CM_imb_m_roc.append(matrix)\n",
    "    \n",
    "# Logistic Regression\n",
    "LR_l1s = LRC(class_weight=cw, n_jobs=-1, penalty='l1', solver='saga')\n",
    "LR_l1l = LRC(class_weight=cw, n_jobs=-1, penalty='l1', solver='liblinear',\n",
    "             random_state=2018)\n",
    "LR_l2s = LRC(class_weight=cw, n_jobs=-1, penalty='l2', solver='saga')\n",
    "LR_l2l = LRC(class_weight=cw, n_jobs=-1, penalty='l2', solver='liblinear',\n",
    "             random_state=2018, dual=False)\n",
    "LR_nwt = LRC(class_weight=cw, n_jobs=-1, penalty='l2', solver='newton-cg')\n",
    "LR_lbf = LRC(class_weight=cw, n_jobs=-1, penalty='l2', solver='lbfgs')\n",
    "LR_sag = LRC(class_weight=cw, n_jobs=-1, penalty='l2', solver='sag',\n",
    "             random_state=2018)\n",
    "clfs = (LR_l1s, LR_l1l, LR_l2s, LR_l2l, LR_nwt, LR_lbf, LR_sag)\n",
    "names = ('LR_l1s_m', 'LR_l1l_m', 'LR_l2s_m', 'LR_l2l_m', \n",
    "         'LR_nwt_m', 'LR_lbf_m', 'LR_sag_m')\n",
    "for i, clf in enumerate(clfs):\n",
    "    model, matrix = RUN_HPS(X, y, clf, parLR, 20, names[i], mode='roc_auc')\n",
    "    BE_imb_m_roc = BE_imb_m_roc.set_value(names[i], model)\n",
    "    CM_imb_m_roc = CM_imb_m_roc.append(matrix)"
   ]
  },
  {
   "cell_type": "code",
   "execution_count": 22,
   "metadata": {
    "ExecuteTime": {
     "end_time": "2018-03-11T12:01:47.594000Z",
     "start_time": "2018-03-11T11:34:23.095000Z"
    },
    "cell_style": "center",
    "code_folding": [
     0
    ]
   },
   "outputs": [
    {
     "name": "stdout",
     "output_type": "stream",
     "text": [
      "   MODEL |  FP |  FN |  TP |  TN |  COST  |    ACC  |\n",
      "#####################################################\n",
      "DT_gin_u |  18 |  80 |  88 |  64 |  -170  |  0.608  |\n",
      "DT_ent_u |  18 |  80 |  88 |  64 |  -170  |  0.608  |\n",
      "GB_dev_u |  46 |  38 | 130 |  36 |  -268  |  0.664  |\n",
      "GB_exp_u |  82 |   0 | 168 |   0 |  -410  |  0.672  |\n",
      "RB_gin_u |  26 |  50 | 118 |  56 |  -180  |  0.696  |\n",
      "RB_ent_u |  29 |  53 | 115 |  53 |  -198  |  0.672  |\n",
      "RX_gin_u |  28 |  61 | 107 |  54 |  -201  |  0.644  |\n",
      "RX_ent_u |  24 |  57 | 111 |  58 |  -177  |  0.676  |\n",
      "EB_gin_u |  23 |  58 | 110 |  59 |  -173  |  0.676  |\n",
      "EB_ent_u |  18 |  71 |  97 |  64 |  -161  |  0.644  |\n",
      "EX_gin_u |  23 |  58 | 110 |  59 |  -173  |  0.676  |\n",
      "EX_ent_u |  18 |  71 |  97 |  64 |  -161  |  0.644  |\n"
     ]
    }
   ],
   "source": [
    "# --- Unscaled dataset: Balanced Class Weights and Tuning for minimal cost ------\n",
    "\n",
    "# Settings\n",
    "cw = 'balanced' # class_weight\n",
    "X = df.values\n",
    "BE_bal_u = pd.Series() # Best Estimators with class_weight = 'balanced'\n",
    "CM_bal_u = pd.DataFrame(columns=['FP','FN','TP','TN']) # Confusion matrix elements\n",
    "\n",
    "print '   MODEL |  FP |  FN |  TP |  TN |  COST  |    ACC  |'\n",
    "print '#####################################################'\n",
    "\n",
    "# Stand Alone Decision Trees\n",
    "DT_gin = DTC(class_weight=cw, random_state=2018, criterion='gini')\n",
    "DT_ent = DTC(class_weight=cw, random_state=2018, criterion='entropy')\n",
    "clfs = (DT_gin, DT_ent)\n",
    "names = ('DT_gin_u', 'DT_ent_u')\n",
    "for i, clf in enumerate(clfs):\n",
    "    model, matrix = RUN_HPS(X, y, clf, parDT, 20, names[i])\n",
    "    BE_bal_u = BE_bal_u.set_value(names[i], model)\n",
    "    CM_bal_u = CM_bal_u.append(matrix)\n",
    "\n",
    "# Gradient Boosted Decision Trees\n",
    "GB_dev = GBC(random_state=2018, loss='deviance')\n",
    "GB_exp = GBC(random_state=2018, loss='exponential')\n",
    "clfs = (GB_dev, GB_exp)\n",
    "names = ('GB_dev_u', 'GB_exp_u')\n",
    "\n",
    "# Making Sample Weights\n",
    "_, _, y_train, _ = train_test_split(X, y, random_state=2018)\n",
    "weights = []\n",
    "for sam in y_train:\n",
    "    if sam == 0:\n",
    "        weights.append(float(500)/300)\n",
    "    else:\n",
    "        weights.append(float(500)/700)\n",
    "w = {'sample_weight':weights}\n",
    "for i, clf in enumerate(clfs):\n",
    "    model, matrix = RUN_HPS(X, y, clf, parGB, 30, names[i], sam_wei=w)\n",
    "    BE_bal_u = BE_bal_u.set_value(names[i], model)\n",
    "    CM_bal_u = CM_bal_u.append(matrix)\n",
    "\n",
    "# Random Forests and Extremely Randomized Trees\n",
    "RB_gin = RFC(class_weight=cw, n_jobs=-1, criterion='gini')\n",
    "RB_ent = RFC(class_weight=cw, n_jobs=-1, criterion='entropy')\n",
    "RX_gin = RFC(class_weight=cw, n_jobs=-1, bootstrap=False, criterion='gini')\n",
    "RX_ent = RFC(class_weight=cw, n_jobs=-1, bootstrap=False, criterion='entropy')\n",
    "EB_gin = ETC(class_weight=cw, n_jobs=-1, criterion='gini')\n",
    "EB_ent = ETC(class_weight=cw, n_jobs=-1, criterion='entropy')\n",
    "EX_gin = ETC(class_weight=cw, n_jobs=-1, bootstrap=False, criterion='gini')\n",
    "EX_ent = ETC(class_weight=cw, n_jobs=-1, bootstrap=False, criterion='entropy')\n",
    "clfs = (RB_gin, RB_ent, RX_gin, RX_ent, EB_gin, EB_ent, EX_gin, EX_ent)\n",
    "names = ('RB_gin_u', 'RB_ent_u', 'RX_gin_u', 'RX_ent_u', \n",
    "         'EB_gin_u', 'EB_ent_u', 'EX_gin_u', 'EX_ent_u')\n",
    "for i, clf in enumerate(clfs):\n",
    "    model, matrix = RUN_HPS(X, y, clf, parRA, 25, names[i])\n",
    "    BE_bal_u = BE_bal_u.set_value(names[i], model)\n",
    "    CM_bal_u = CM_bal_u.append(matrix)"
   ]
  },
  {
   "cell_type": "code",
   "execution_count": 23,
   "metadata": {
    "ExecuteTime": {
     "end_time": "2018-03-11T12:32:31.462000Z",
     "start_time": "2018-03-11T12:01:47.596000Z"
    },
    "cell_style": "center",
    "code_folding": [
     0
    ]
   },
   "outputs": [
    {
     "name": "stdout",
     "output_type": "stream",
     "text": [
      "   MODEL |  FP |  FN |  TP |  TN |  COST  |    ACC  |\n",
      "#####################################################\n",
      "DT_gin_u |  44 |  41 | 127 |  38 |  -261  |  0.660  |\n",
      "DT_ent_u |  44 |  41 | 127 |  38 |  -261  |  0.660  |\n",
      "GB_dev_u |  46 |  19 | 149 |  36 |  -249  |  0.740  |\n",
      "GB_exp_u |  44 |  22 | 146 |  38 |  -242  |  0.736  |\n",
      "RB_gin_u |  61 |  10 | 158 |  21 |  -315  |  0.716  |\n",
      "RB_ent_u |  52 |  19 | 149 |  30 |  -279  |  0.716  |\n",
      "RX_gin_u |  56 |  11 | 157 |  26 |  -291  |  0.732  |\n",
      "RX_ent_u |  51 |  26 | 142 |  31 |  -281  |  0.692  |\n",
      "EB_gin_u |  50 |  36 | 132 |  32 |  -286  |  0.656  |\n",
      "EB_ent_u |  50 |  36 | 132 |  32 |  -286  |  0.656  |\n",
      "EX_gin_u |  50 |  36 | 132 |  32 |  -286  |  0.656  |\n",
      "EX_ent_u |  50 |  36 | 132 |  32 |  -286  |  0.656  |\n"
     ]
    }
   ],
   "source": [
    "# --- Unscaled dataset: Imbalanced Class Weights and Tuning for minimal cost ----\n",
    "\n",
    "# Settings\n",
    "cw = None # class_weight\n",
    "X = df.values\n",
    "BE_imb_u = pd.Series() # Best Estimators with class_weight = 'balanced'\n",
    "CM_imb_u = pd.DataFrame(columns=['FP','FN','TP','TN']) # Confusion matrix elements\n",
    "\n",
    "print '   MODEL |  FP |  FN |  TP |  TN |  COST  |    ACC  |'\n",
    "print '#####################################################'\n",
    "\n",
    "# Stand Alone Decision Trees\n",
    "DT_gin = DTC(class_weight=cw, random_state=2018, criterion='gini')\n",
    "DT_ent = DTC(class_weight=cw, random_state=2018, criterion='entropy')\n",
    "clfs = (DT_gin, DT_ent)\n",
    "names = ('DT_gin_u', 'DT_ent_u')\n",
    "for i, clf in enumerate(clfs):\n",
    "    model, matrix = RUN_HPS(X, y, clf, parDT, 20, names[i])\n",
    "    BE_imb_u = BE_imb_u.set_value(names[i], model)\n",
    "    CM_imb_u = CM_imb_u.append(matrix)\n",
    "\n",
    "# Gradient Boosted Decision Trees\n",
    "GB_dev = GBC(random_state=2018, loss='deviance')\n",
    "GB_exp = GBC(random_state=2018, loss='exponential')\n",
    "clfs = (GB_dev, GB_exp)\n",
    "names = ('GB_dev_u', 'GB_exp_u')\n",
    "for i, clf in enumerate(clfs):\n",
    "    model, matrix = RUN_HPS(X, y, clf, parGB, 30, names[i])\n",
    "    BE_imb_u = BE_imb_u.set_value(names[i], model)\n",
    "    CM_imb_u = CM_imb_u.append(matrix)\n",
    "\n",
    "# Random Forests and Extremely Randomized Trees\n",
    "RB_gin = RFC(class_weight=cw, n_jobs=-1, criterion='gini')\n",
    "RB_ent = RFC(class_weight=cw, n_jobs=-1, criterion='entropy')\n",
    "RX_gin = RFC(class_weight=cw, n_jobs=-1, bootstrap=False, criterion='gini')\n",
    "RX_ent = RFC(class_weight=cw, n_jobs=-1, bootstrap=False, criterion='entropy')\n",
    "EB_gin = ETC(class_weight=cw, n_jobs=-1, criterion='gini')\n",
    "EB_ent = ETC(class_weight=cw, n_jobs=-1, criterion='entropy')\n",
    "EX_gin = ETC(class_weight=cw, n_jobs=-1, bootstrap=False, criterion='gini')\n",
    "EX_ent = ETC(class_weight=cw, n_jobs=-1, bootstrap=False, criterion='entropy')\n",
    "clfs = (RB_gin, RB_ent, RX_gin, RX_ent, EB_gin, EB_ent, EX_gin, EX_ent)\n",
    "names = ('RB_gin_u', 'RB_ent_u', 'RX_gin_u', 'RX_ent_u', \n",
    "         'EB_gin_u', 'EB_ent_u', 'EX_gin_u', 'EX_ent_u')\n",
    "for i, clf in enumerate(clfs):\n",
    "    model, matrix = RUN_HPS(X, y, clf, parRA, 25, names[i])\n",
    "    BE_imb_u = BE_imb_u.set_value(names[i], model)\n",
    "    CM_imb_u = CM_imb_u.append(matrix)"
   ]
  },
  {
   "cell_type": "code",
   "execution_count": 24,
   "metadata": {
    "ExecuteTime": {
     "end_time": "2018-03-11T13:00:38.011000Z",
     "start_time": "2018-03-11T12:32:31.464000Z"
    },
    "cell_style": "center",
    "code_folding": [
     0
    ]
   },
   "outputs": [
    {
     "name": "stdout",
     "output_type": "stream",
     "text": [
      "   MODEL |  FP |  FN |  TP |  TN |  COST  |    ACC  |\n",
      "#####################################################\n",
      "DT_gin_u |  31 |  64 | 104 |  51 |  -219  |  0.620  |\n",
      "DT_ent_u |  18 |  80 |  88 |  64 |  -170  |  0.608  |\n",
      "GB_dev_u |  44 |  18 | 150 |  38 |  -238  |  0.752  |\n",
      "GB_exp_u |  46 |  18 | 150 |  36 |  -248  |  0.744  |\n",
      "RB_gin_u |  28 |  60 | 108 |  54 |  -200  |  0.648  |\n",
      "RB_ent_u |  25 |  63 | 105 |  57 |  -188  |  0.648  |\n",
      "RX_gin_u |  24 |  60 | 108 |  58 |  -180  |  0.664  |\n",
      "RX_ent_u |  27 |  56 | 112 |  55 |  -191  |  0.668  |\n",
      "EB_gin_u |  22 |  58 | 110 |  60 |  -168  |  0.680  |\n",
      "EB_ent_u |  25 |  55 | 113 |  57 |  -180  |  0.680  |\n",
      "EX_gin_u |  22 |  58 | 110 |  60 |  -168  |  0.680  |\n",
      "EX_ent_u |  25 |  55 | 113 |  57 |  -180  |  0.680  |\n"
     ]
    }
   ],
   "source": [
    "# --- Unscaled dataset: Balanced Class Weights and Tuning for roc_auc score -----\n",
    "\n",
    "# Settings\n",
    "cw = 'balanced' # class_weight\n",
    "X = df.values\n",
    "BE_bal_u_roc = pd.Series() # Best Estimators with class_weight = 'balanced'\n",
    "CM_bal_u_roc = pd.DataFrame(columns=['FP','FN','TP','TN']) # Confusion matrix elements\n",
    "\n",
    "print '   MODEL |  FP |  FN |  TP |  TN |  COST  |    ACC  |'\n",
    "print '#####################################################'\n",
    "\n",
    "# Stand Alone Decision Trees\n",
    "DT_gin = DTC(class_weight=cw, random_state=2018, criterion='gini')\n",
    "DT_ent = DTC(class_weight=cw, random_state=2018, criterion='entropy')\n",
    "clfs = (DT_gin, DT_ent)\n",
    "names = ('DT_gin_u', 'DT_ent_u')\n",
    "for i, clf in enumerate(clfs):\n",
    "    model, matrix = RUN_HPS(X, y, clf, parDT, 20, names[i], mode='roc_auc')\n",
    "    BE_bal_u_roc = BE_bal_u_roc.set_value(names[i], model)\n",
    "    CM_bal_u_roc = CM_bal_u_roc.append(matrix)\n",
    "\n",
    "# Gradient Boosted Decision Trees\n",
    "GB_dev = GBC(random_state=2018, loss='deviance')\n",
    "GB_exp = GBC(random_state=2018, loss='exponential')\n",
    "clfs = (GB_dev, GB_exp)\n",
    "names = ('GB_dev_u', 'GB_exp_u')\n",
    "\n",
    "# Making Sample Weights\n",
    "_, _, y_train, _ = train_test_split(X, y, random_state=2018)\n",
    "weights = []\n",
    "for sam in y_train:\n",
    "    if sam == 0:\n",
    "        weights.append(float(500)/300)\n",
    "    else:\n",
    "        weights.append(float(500)/700)\n",
    "w = {'sample_weight':weights}\n",
    "for i, clf in enumerate(clfs):\n",
    "    model, matrix = RUN_HPS(X, y, clf, parGB, 30, names[i], sam_wei=w, mode='roc_auc')\n",
    "    BE_bal_u_roc = BE_bal_u_roc.set_value(names[i], model)\n",
    "    CM_bal_u_roc = CM_bal_u_roc.append(matrix)\n",
    "\n",
    "# Random Forests and Extremely Randomized Trees\n",
    "RB_gin = RFC(class_weight=cw, n_jobs=-1, criterion='gini')\n",
    "RB_ent = RFC(class_weight=cw, n_jobs=-1, criterion='entropy')\n",
    "RX_gin = RFC(class_weight=cw, n_jobs=-1, bootstrap=False, criterion='gini')\n",
    "RX_ent = RFC(class_weight=cw, n_jobs=-1, bootstrap=False, criterion='entropy')\n",
    "EB_gin = ETC(class_weight=cw, n_jobs=-1, criterion='gini')\n",
    "EB_ent = ETC(class_weight=cw, n_jobs=-1, criterion='entropy')\n",
    "EX_gin = ETC(class_weight=cw, n_jobs=-1, bootstrap=False, criterion='gini')\n",
    "EX_ent = ETC(class_weight=cw, n_jobs=-1, bootstrap=False, criterion='entropy')\n",
    "clfs = (RB_gin, RB_ent, RX_gin, RX_ent, EB_gin, EB_ent, EX_gin, EX_ent)\n",
    "names = ('RB_gin_u', 'RB_ent_u', 'RX_gin_u', 'RX_ent_u', \n",
    "         'EB_gin_u', 'EB_ent_u', 'EX_gin_u', 'EX_ent_u')\n",
    "for i, clf in enumerate(clfs):\n",
    "    model, matrix = RUN_HPS(X, y, clf, parRA, 25, names[i], mode='roc_auc')\n",
    "    BE_bal_u_roc = BE_bal_u_roc.set_value(names[i], model)\n",
    "    CM_bal_u_roc = CM_bal_u_roc.append(matrix)"
   ]
  },
  {
   "cell_type": "code",
   "execution_count": 25,
   "metadata": {
    "ExecuteTime": {
     "end_time": "2018-03-11T13:34:57.131000Z",
     "start_time": "2018-03-11T13:00:38.013000Z"
    },
    "cell_style": "center",
    "code_folding": [
     0
    ]
   },
   "outputs": [
    {
     "name": "stdout",
     "output_type": "stream",
     "text": [
      "   MODEL |  FP |  FN |  TP |  TN |  COST  |    ACC  |\n",
      "#####################################################\n",
      "DT_gin_u |  49 |  33 | 135 |  33 |  -278  |  0.672  |\n",
      "DT_ent_u |  49 |  33 | 135 |  33 |  -278  |  0.672  |\n",
      "GB_dev_u |  48 |  14 | 154 |  34 |  -254  |  0.752  |\n",
      "GB_exp_u |  51 |  16 | 152 |  31 |  -271  |  0.732  |\n",
      "RB_gin_u |  82 |   0 | 168 |   0 |  -410  |  0.672  |\n",
      "RB_ent_u |  78 |   2 | 166 |   4 |  -392  |  0.680  |\n",
      "RX_gin_u |  51 |  14 | 154 |  31 |  -269  |  0.740  |\n",
      "RX_ent_u |  67 |   6 | 162 |  15 |  -341  |  0.708  |\n",
      "EB_gin_u |  56 |  10 | 158 |  26 |  -290  |  0.736  |\n",
      "EB_ent_u |  82 |   0 | 168 |   0 |  -410  |  0.672  |\n",
      "EX_gin_u |  56 |  10 | 158 |  26 |  -290  |  0.736  |\n",
      "EX_ent_u |  82 |   0 | 168 |   0 |  -410  |  0.672  |\n"
     ]
    }
   ],
   "source": [
    "# --- Unscaled dataset: Imbalanced Class Weights and Tuning for roc_auc score ---\n",
    "\n",
    "# Settings\n",
    "cw = None # class_weight\n",
    "X = df.values\n",
    "BE_imb_u_roc = pd.Series() # Best Estimators with class_weight = 'balanced'\n",
    "CM_imb_u_roc = pd.DataFrame(columns=['FP','FN','TP','TN']) # Confusion matrix elements\n",
    "\n",
    "print '   MODEL |  FP |  FN |  TP |  TN |  COST  |    ACC  |'\n",
    "print '#####################################################'\n",
    "\n",
    "# Stand Alone Decision Trees\n",
    "DT_gin = DTC(class_weight=cw, random_state=2018, criterion='gini')\n",
    "DT_ent = DTC(class_weight=cw, random_state=2018, criterion='entropy')\n",
    "clfs = (DT_gin, DT_ent)\n",
    "names = ('DT_gin_u', 'DT_ent_u')\n",
    "for i, clf in enumerate(clfs):\n",
    "    model, matrix = RUN_HPS(X, y, clf, parDT, 20, names[i], mode='roc_auc')\n",
    "    BE_imb_u_roc = BE_imb_u_roc.set_value(names[i], model)\n",
    "    CM_imb_u_roc = CM_imb_u_roc.append(matrix)\n",
    "\n",
    "# Gradient Boosted Decision Trees\n",
    "GB_dev = GBC(random_state=2018, loss='deviance')\n",
    "GB_exp = GBC(random_state=2018, loss='exponential')\n",
    "clfs = (GB_dev, GB_exp)\n",
    "names = ('GB_dev_u', 'GB_exp_u')\n",
    "for i, clf in enumerate(clfs):\n",
    "    model, matrix = RUN_HPS(X, y, clf, parGB, 30, names[i], mode='roc_auc')\n",
    "    BE_imb_u_roc = BE_imb_u_roc.set_value(names[i], model)\n",
    "    CM_imb_u_roc = CM_imb_u_roc.append(matrix)\n",
    "\n",
    "# Random Forests and Extremely Randomized Trees\n",
    "RB_gin = RFC(class_weight=cw, n_jobs=-1, criterion='gini')\n",
    "RB_ent = RFC(class_weight=cw, n_jobs=-1, criterion='entropy')\n",
    "RX_gin = RFC(class_weight=cw, n_jobs=-1, bootstrap=False, criterion='gini')\n",
    "RX_ent = RFC(class_weight=cw, n_jobs=-1, bootstrap=False, criterion='entropy')\n",
    "EB_gin = ETC(class_weight=cw, n_jobs=-1, criterion='gini')\n",
    "EB_ent = ETC(class_weight=cw, n_jobs=-1, criterion='entropy')\n",
    "EX_gin = ETC(class_weight=cw, n_jobs=-1, bootstrap=False, criterion='gini')\n",
    "EX_ent = ETC(class_weight=cw, n_jobs=-1, bootstrap=False, criterion='entropy')\n",
    "clfs = (RB_gin, RB_ent, RX_gin, RX_ent, EB_gin, EB_ent, EX_gin, EX_ent)\n",
    "names = ('RB_gin_u', 'RB_ent_u', 'RX_gin_u', 'RX_ent_u', \n",
    "         'EB_gin_u', 'EB_ent_u', 'EX_gin_u', 'EX_ent_u')\n",
    "for i, clf in enumerate(clfs):\n",
    "    model, matrix = RUN_HPS(X, y, clf, parRA, 25, names[i], mode='roc_auc')\n",
    "    BE_imb_u_roc = BE_imb_u_roc.set_value(names[i], model)\n",
    "    CM_imb_u_roc = CM_imb_u_roc.append(matrix)"
   ]
  },
  {
   "cell_type": "code",
   "execution_count": null,
   "metadata": {
    "ExecuteTime": {
     "end_time": "2018-03-11T10:48:15.902000Z",
     "start_time": "2018-03-11T10:38:22.003Z"
    },
    "code_folding": []
   },
   "outputs": [],
   "source": [
    "# --- Saving Tuned Classifiers and their respective Confusion Matrixes-----------\n",
    "\n",
    "with open('pickles/best_clfs.pkl','rb') as get_results:\n",
    "    clf_sets = pickle.load(get_results)\n",
    "\n",
    "with open('pickles/names.pkl','rb') as get_results:\n",
    "    names = pickle.load(get_results)\n",
    "\n",
    "with open('pickles/matrices.pkl','rb') as get_results:\n",
    "     CM = pickle.load(get_results)"
   ]
  }
 ],
 "metadata": {
  "hide_code_all_hidden": false,
  "hide_input": false,
  "kernelspec": {
   "display_name": "Python 2",
   "language": "python",
   "name": "python2"
  },
  "language_info": {
   "codemirror_mode": {
    "name": "ipython",
    "version": 2
   },
   "file_extension": ".py",
   "mimetype": "text/x-python",
   "name": "python",
   "nbconvert_exporter": "python",
   "pygments_lexer": "ipython2",
   "version": "2.7.14"
  },
  "notify_time": "5",
  "varInspector": {
   "cols": {
    "lenName": 16,
    "lenType": 16,
    "lenVar": 40
   },
   "kernels_config": {
    "python": {
     "delete_cmd_postfix": "",
     "delete_cmd_prefix": "del ",
     "library": "var_list.py",
     "varRefreshCmd": "print(var_dic_list())"
    },
    "r": {
     "delete_cmd_postfix": ") ",
     "delete_cmd_prefix": "rm(",
     "library": "var_list.r",
     "varRefreshCmd": "cat(var_dic_list()) "
    }
   },
   "position": {
    "height": "577px",
    "left": "346px",
    "right": "20px",
    "top": "60px",
    "width": "800px"
   },
   "types_to_exclude": [
    "module",
    "function",
    "builtin_function_or_method",
    "instance",
    "_Feature"
   ],
   "window_display": false
  }
 },
 "nbformat": 4,
 "nbformat_minor": 2
}
